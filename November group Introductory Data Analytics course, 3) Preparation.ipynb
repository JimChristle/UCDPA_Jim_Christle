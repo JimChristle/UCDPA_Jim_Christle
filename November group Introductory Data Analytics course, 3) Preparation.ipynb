{
 "cells": [
  {
   "cell_type": "code",
   "execution_count": 4,
   "id": "3e7400d6",
   "metadata": {},
   "outputs": [],
   "source": [
    "import pandas as pd\n",
    "import os\n",
    "import numpy as np\n",
    "import matplotlib.pyplot as plt\n",
    "import seaborn as sns\n",
    "os.getcwd()\n",
    "Olympics= pd.read_csv(\"C:\\\\Users\\\\Jim/Downloads/athlete_events.csv/athlete_events.csv\")\n",
    "swim= Olympics[Olympics['Sport'] == 'Swimming']\n",
    "Medals=['Gold', 'Silver', 'Bronze']; winner=swim['Medal'].isin(Medals)"
   ]
  },
  {
   "cell_type": "code",
   "execution_count": 2,
   "id": "533392c1",
   "metadata": {},
   "outputs": [],
   "source": [
    "#Now the fun begins"
   ]
  },
  {
   "cell_type": "code",
   "execution_count": 58,
   "id": "d8d730b5",
   "metadata": {},
   "outputs": [
    {
     "name": "stdout",
     "output_type": "stream",
     "text": [
      "            ID                                   Name Sex   Age  Height  \\\n",
      "37          15                   Arvo Ossian Aaltonen   M  30.0     NaN   \n",
      "38          15                   Arvo Ossian Aaltonen   M  30.0     NaN   \n",
      "210        100                       Oszkr Abay-Nemes   M  22.0     NaN   \n",
      "476        259                             Reema Abdo   F  21.0   173.0   \n",
      "740        424                Moira Abernethy (-Ford)   F  17.0     NaN   \n",
      "...        ...                                    ...  ..   ...     ...   \n",
      "270530  135302                          Iris Zscherpe   F  17.0   174.0   \n",
      "270732  135396               Martijn Hendrik Zuijdweg   M  23.0   186.0   \n",
      "270773  135415                          Robertas ulpa   M  20.0   193.0   \n",
      "270939  135489  Anastasiya Valeryevna Zuyeva-Fesikova   F  22.0   182.0   \n",
      "271013  135522        Klaas Erik \"Klaas-Erik\" Zwering   M  23.0   189.0   \n",
      "\n",
      "        Weight          Team  NOC        Games  Year  Season         City  \\\n",
      "37         NaN       Finland  FIN  1920 Summer  1920  Summer    Antwerpen   \n",
      "38         NaN       Finland  FIN  1920 Summer  1920  Summer    Antwerpen   \n",
      "210        NaN       Hungary  HUN  1936 Summer  1936  Summer       Berlin   \n",
      "476       59.0        Canada  CAN  1984 Summer  1984  Summer  Los Angeles   \n",
      "740        NaN  South Africa  RSA  1956 Summer  1956  Summer    Melbourne   \n",
      "...        ...           ...  ...          ...   ...     ...          ...   \n",
      "270530    55.0  West Germany  FRG  1984 Summer  1984  Summer  Los Angeles   \n",
      "270732    83.0   Netherlands  NED  2000 Summer  2000  Summer       Sydney   \n",
      "270773    82.0  Soviet Union  URS  1980 Summer  1980  Summer       Moskva   \n",
      "270939    71.0        Russia  RUS  2012 Summer  2012  Summer       London   \n",
      "271013    80.0   Netherlands  NED  2004 Summer  2004  Summer       Athina   \n",
      "\n",
      "           Sport                                            Event   Medal  \n",
      "37      Swimming           Swimming Men's 200 metres Breaststroke  Bronze  \n",
      "38      Swimming           Swimming Men's 400 metres Breaststroke  Bronze  \n",
      "210     Swimming    Swimming Men's 4 x 200 metres Freestyle Relay  Bronze  \n",
      "476     Swimming     Swimming Women's 4 x 100 metres Medley Relay  Bronze  \n",
      "740     Swimming  Swimming Women's 4 x 100 metres Freestyle Relay  Bronze  \n",
      "...          ...                                              ...     ...  \n",
      "270530  Swimming  Swimming Women's 4 x 100 metres Freestyle Relay  Bronze  \n",
      "270732  Swimming    Swimming Men's 4 x 200 metres Freestyle Relay  Bronze  \n",
      "270773  Swimming           Swimming Men's 200 metres Breaststroke    Gold  \n",
      "270939  Swimming           Swimming Women's 200 metres Backstroke  Silver  \n",
      "271013  Swimming    Swimming Men's 4 x 100 metres Freestyle Relay  Silver  \n",
      "\n",
      "[3048 rows x 15 columns]\n"
     ]
    }
   ],
   "source": [
    "#I now convert the data to a Pandas Dataframe to make it easier to manipulate\n",
    "swim_champ=pd.DataFrame(swim[winner])\n",
    "print(swim_champ)"
   ]
  },
  {
   "cell_type": "code",
   "execution_count": null,
   "id": "c1aca704",
   "metadata": {},
   "outputs": [],
   "source": [
    "#SORTING"
   ]
  },
  {
   "cell_type": "code",
   "execution_count": 19,
   "id": "f700abe5",
   "metadata": {},
   "outputs": [],
   "source": [
    "#The values are now sorted in order of year, beginning with the most recent Games\n",
    "swim_champ_year=swim_champ.sort_values('Year', ascending = False)"
   ]
  },
  {
   "cell_type": "code",
   "execution_count": 14,
   "id": "254800b5",
   "metadata": {},
   "outputs": [
    {
     "name": "stdout",
     "output_type": "stream",
     "text": [
      "           ID                         Name Sex   Age  Height  Weight  \\\n",
      "187913  94406      Michael Fred Phelps, II   M  31.0   193.0    91.0   \n",
      "54371   27897               Gabriele Detti   M  21.0   184.0    79.0   \n",
      "56072   28734  Madeline Jane \"Maya\" DiRado   F  23.0   175.0    65.0   \n",
      "187911  94406      Michael Fred Phelps, II   M  31.0   193.0    91.0   \n",
      "187912  94406      Michael Fred Phelps, II   M  31.0   193.0    91.0   \n",
      "\n",
      "                 Team  NOC        Games  Year  Season            City  \\\n",
      "187913  United States  USA  2016 Summer  2016  Summer  Rio de Janeiro   \n",
      "54371           Italy  ITA  2016 Summer  2016  Summer  Rio de Janeiro   \n",
      "56072   United States  USA  2016 Summer  2016  Summer  Rio de Janeiro   \n",
      "187911  United States  USA  2016 Summer  2016  Summer  Rio de Janeiro   \n",
      "187912  United States  USA  2016 Summer  2016  Summer  Rio de Janeiro   \n",
      "\n",
      "           Sport                                            Event   Medal  \n",
      "187913  Swimming              Swimming Men's 100 metres Butterfly  Silver  \n",
      "54371   Swimming            Swimming Men's 1,500 metres Freestyle  Bronze  \n",
      "56072   Swimming  Swimming Women's 4 x 200 metres Freestyle Relay    Gold  \n",
      "187911  Swimming    Swimming Men's 4 x 100 metres Freestyle Relay    Gold  \n",
      "187912  Swimming    Swimming Men's 4 x 200 metres Freestyle Relay    Gold  \n"
     ]
    }
   ],
   "source": [
    "print(swim_champ_year.head())"
   ]
  },
  {
   "cell_type": "code",
   "execution_count": 22,
   "id": "fe763de3",
   "metadata": {},
   "outputs": [],
   "source": [
    "#I can subset further to look at winners from the 1990's onwards\n",
    "modern_champ= swim_champ_year[swim_champ_year['Year'] > 1990]"
   ]
  },
  {
   "cell_type": "code",
   "execution_count": 16,
   "id": "fe6a927e",
   "metadata": {},
   "outputs": [
    {
     "data": {
      "text/plain": [
       "(1306, 15)"
      ]
     },
     "execution_count": 16,
     "metadata": {},
     "output_type": "execute_result"
    }
   ],
   "source": [
    "modern_champ.shape"
   ]
  },
  {
   "cell_type": "code",
   "execution_count": 17,
   "id": "6054a97b",
   "metadata": {},
   "outputs": [
    {
     "name": "stdout",
     "output_type": "stream",
     "text": [
      "            ID                           Name Sex   Age  Height  Weight  \\\n",
      "187913   94406        Michael Fred Phelps, II   M  31.0   193.0    91.0   \n",
      "54371    27897                 Gabriele Detti   M  21.0   184.0    79.0   \n",
      "56072    28734    Madeline Jane \"Maya\" DiRado   F  23.0   175.0    65.0   \n",
      "187911   94406        Michael Fred Phelps, II   M  31.0   193.0    91.0   \n",
      "187912   94406        Michael Fred Phelps, II   M  31.0   193.0    91.0   \n",
      "...        ...                            ...  ..   ...     ...     ...   \n",
      "105333   53292               Scott Erik Jaffe   M  23.0   193.0    84.0   \n",
      "269547  134873                    Zhuang Yong   F  19.0   172.0    68.0   \n",
      "110581   55915   Daniel Ploug \"Dan\" Jorgensen   M  24.0   190.0    93.0   \n",
      "236992  118836  Veniamin Igorevich Tayanovich   M  25.0     NaN     NaN   \n",
      "236441  118551  Ashley Tara Tappin (-Doussan)   F  17.0   178.0    66.0   \n",
      "\n",
      "                 Team  NOC        Games  Year  Season            City  \\\n",
      "187913  United States  USA  2016 Summer  2016  Summer  Rio de Janeiro   \n",
      "54371           Italy  ITA  2016 Summer  2016  Summer  Rio de Janeiro   \n",
      "56072   United States  USA  2016 Summer  2016  Summer  Rio de Janeiro   \n",
      "187911  United States  USA  2016 Summer  2016  Summer  Rio de Janeiro   \n",
      "187912  United States  USA  2016 Summer  2016  Summer  Rio de Janeiro   \n",
      "...               ...  ...          ...   ...     ...             ...   \n",
      "105333  United States  USA  1992 Summer  1992  Summer       Barcelona   \n",
      "269547          China  CHN  1992 Summer  1992  Summer       Barcelona   \n",
      "110581  United States  USA  1992 Summer  1992  Summer       Barcelona   \n",
      "236992   Unified Team  EUN  1992 Summer  1992  Summer       Barcelona   \n",
      "236441  United States  USA  1992 Summer  1992  Summer       Barcelona   \n",
      "\n",
      "           Sport                                            Event   Medal  \n",
      "187913  Swimming              Swimming Men's 100 metres Butterfly  Silver  \n",
      "54371   Swimming            Swimming Men's 1,500 metres Freestyle  Bronze  \n",
      "56072   Swimming  Swimming Women's 4 x 200 metres Freestyle Relay    Gold  \n",
      "187911  Swimming    Swimming Men's 4 x 100 metres Freestyle Relay    Gold  \n",
      "187912  Swimming    Swimming Men's 4 x 200 metres Freestyle Relay    Gold  \n",
      "...          ...                                              ...     ...  \n",
      "105333  Swimming    Swimming Men's 4 x 200 metres Freestyle Relay  Bronze  \n",
      "269547  Swimming            Swimming Women's 100 metres Freestyle    Gold  \n",
      "110581  Swimming    Swimming Men's 4 x 200 metres Freestyle Relay  Bronze  \n",
      "236992  Swimming    Swimming Men's 4 x 200 metres Freestyle Relay    Gold  \n",
      "236441  Swimming  Swimming Women's 4 x 100 metres Freestyle Relay    Gold  \n",
      "\n",
      "[1306 rows x 15 columns]\n"
     ]
    }
   ],
   "source": [
    "print(modern_champ)"
   ]
  },
  {
   "cell_type": "code",
   "execution_count": 20,
   "id": "89ee8bb9",
   "metadata": {},
   "outputs": [],
   "source": [
    "# This dataset can now be sorted by age to give an indication of the age range of contestants in this sport"
   ]
  },
  {
   "cell_type": "code",
   "execution_count": 25,
   "id": "5220da7b",
   "metadata": {},
   "outputs": [],
   "source": [
    "modern_champ_age_range=modern_champ.sort_values('Age')"
   ]
  },
  {
   "cell_type": "code",
   "execution_count": 26,
   "id": "a48da795",
   "metadata": {},
   "outputs": [
    {
     "name": "stdout",
     "output_type": "stream",
     "text": [
      "            ID                                  Name Sex   Age  Height  \\\n",
      "170652   85771                              Nian Yun   F  13.0   168.0   \n",
      "16847     9034             Amanda Ray Beard (-Brown)   F  14.0   173.0   \n",
      "16848     9034             Amanda Ray Beard (-Brown)   F  14.0   173.0   \n",
      "16849     9034             Amanda Ray Beard (-Brown)   F  14.0   173.0   \n",
      "89771    45493                               Han Xue   F  14.0   177.0   \n",
      "...        ...                                   ...  ..   ...     ...   \n",
      "78988    40104          Spyridon \"Spyros\" Gianniotis   M  36.0   185.0   \n",
      "137867   69288                    Jason Edward Lezak   M  36.0   193.0   \n",
      "242086  121258  Dara Grace Torres (-Hoffman, -Minas)   F  41.0   183.0   \n",
      "242085  121258  Dara Grace Torres (-Hoffman, -Minas)   F  41.0   183.0   \n",
      "242084  121258  Dara Grace Torres (-Hoffman, -Minas)   F  41.0   183.0   \n",
      "\n",
      "        Weight           Team  NOC        Games  Year  Season            City  \\\n",
      "170652    61.0          China  CHN  1996 Summer  1996  Summer         Atlanta   \n",
      "16847     59.0  United States  USA  1996 Summer  1996  Summer         Atlanta   \n",
      "16848     59.0  United States  USA  1996 Summer  1996  Summer         Atlanta   \n",
      "16849     59.0  United States  USA  1996 Summer  1996  Summer         Atlanta   \n",
      "89771     68.0          China  CHN  1996 Summer  1996  Summer         Atlanta   \n",
      "...        ...            ...  ...          ...   ...     ...             ...   \n",
      "78988     78.0         Greece  GRE  2016 Summer  2016  Summer  Rio de Janeiro   \n",
      "137867    98.0  United States  USA  2012 Summer  2012  Summer          London   \n",
      "242086    68.0  United States  USA  2008 Summer  2008  Summer         Beijing   \n",
      "242085    68.0  United States  USA  2008 Summer  2008  Summer         Beijing   \n",
      "242084    68.0  United States  USA  2008 Summer  2008  Summer         Beijing   \n",
      "\n",
      "           Sport                                            Event   Medal  \n",
      "170652  Swimming  Swimming Women's 4 x 100 metres Freestyle Relay  Silver  \n",
      "16847   Swimming         Swimming Women's 100 metres Breaststroke  Silver  \n",
      "16848   Swimming         Swimming Women's 200 metres Breaststroke  Silver  \n",
      "16849   Swimming     Swimming Women's 4 x 100 metres Medley Relay    Gold  \n",
      "89771   Swimming     Swimming Women's 4 x 100 metres Medley Relay  Bronze  \n",
      "...          ...                                              ...     ...  \n",
      "78988   Swimming          Swimming Men's 10 kilometres Open Water  Silver  \n",
      "137867  Swimming    Swimming Men's 4 x 100 metres Freestyle Relay  Silver  \n",
      "242086  Swimming     Swimming Women's 4 x 100 metres Medley Relay  Silver  \n",
      "242085  Swimming  Swimming Women's 4 x 100 metres Freestyle Relay  Silver  \n",
      "242084  Swimming             Swimming Women's 50 metres Freestyle  Silver  \n",
      "\n",
      "[1306 rows x 15 columns]\n"
     ]
    }
   ],
   "source": [
    "print(modern_champ_age_range)"
   ]
  },
  {
   "cell_type": "code",
   "execution_count": 41,
   "id": "498c0cbf",
   "metadata": {},
   "outputs": [],
   "source": [
    "#INDEXING"
   ]
  },
  {
   "cell_type": "code",
   "execution_count": 42,
   "id": "6f95e48f",
   "metadata": {},
   "outputs": [],
   "source": [
    "#I begin by viewing the index of the swim_champ dataset"
   ]
  },
  {
   "cell_type": "code",
   "execution_count": 43,
   "id": "4eefaf74",
   "metadata": {},
   "outputs": [
    {
     "data": {
      "text/plain": [
       "Int64Index([    37,     38,    210,    476,    740,    803,    804,    814,\n",
       "               892,   1462,\n",
       "            ...\n",
       "            269854, 269888, 269944, 270394, 270403, 270530, 270732, 270773,\n",
       "            270939, 271013],\n",
       "           dtype='int64', length=3048)"
      ]
     },
     "execution_count": 43,
     "metadata": {},
     "output_type": "execute_result"
    }
   ],
   "source": [
    "swim_champ.index"
   ]
  },
  {
   "cell_type": "code",
   "execution_count": null,
   "id": "34de17dc",
   "metadata": {},
   "outputs": [],
   "source": [
    "#I can now change the index to the athlete's ID"
   ]
  },
  {
   "cell_type": "code",
   "execution_count": 62,
   "id": "4da2c18c",
   "metadata": {},
   "outputs": [
    {
     "data": {
      "text/html": [
       "<div>\n",
       "<style scoped>\n",
       "    .dataframe tbody tr th:only-of-type {\n",
       "        vertical-align: middle;\n",
       "    }\n",
       "\n",
       "    .dataframe tbody tr th {\n",
       "        vertical-align: top;\n",
       "    }\n",
       "\n",
       "    .dataframe thead th {\n",
       "        text-align: right;\n",
       "    }\n",
       "</style>\n",
       "<table border=\"1\" class=\"dataframe\">\n",
       "  <thead>\n",
       "    <tr style=\"text-align: right;\">\n",
       "      <th></th>\n",
       "      <th>Name</th>\n",
       "      <th>Sex</th>\n",
       "      <th>Age</th>\n",
       "      <th>Height</th>\n",
       "      <th>Weight</th>\n",
       "      <th>Team</th>\n",
       "      <th>NOC</th>\n",
       "      <th>Games</th>\n",
       "      <th>Year</th>\n",
       "      <th>Season</th>\n",
       "      <th>City</th>\n",
       "      <th>Sport</th>\n",
       "      <th>Event</th>\n",
       "      <th>Medal</th>\n",
       "    </tr>\n",
       "    <tr>\n",
       "      <th>ID</th>\n",
       "      <th></th>\n",
       "      <th></th>\n",
       "      <th></th>\n",
       "      <th></th>\n",
       "      <th></th>\n",
       "      <th></th>\n",
       "      <th></th>\n",
       "      <th></th>\n",
       "      <th></th>\n",
       "      <th></th>\n",
       "      <th></th>\n",
       "      <th></th>\n",
       "      <th></th>\n",
       "      <th></th>\n",
       "    </tr>\n",
       "  </thead>\n",
       "  <tbody>\n",
       "    <tr>\n",
       "      <th>15</th>\n",
       "      <td>Arvo Ossian Aaltonen</td>\n",
       "      <td>M</td>\n",
       "      <td>30.0</td>\n",
       "      <td>NaN</td>\n",
       "      <td>NaN</td>\n",
       "      <td>Finland</td>\n",
       "      <td>FIN</td>\n",
       "      <td>1920 Summer</td>\n",
       "      <td>1920</td>\n",
       "      <td>Summer</td>\n",
       "      <td>Antwerpen</td>\n",
       "      <td>Swimming</td>\n",
       "      <td>Swimming Men's 200 metres Breaststroke</td>\n",
       "      <td>Bronze</td>\n",
       "    </tr>\n",
       "    <tr>\n",
       "      <th>15</th>\n",
       "      <td>Arvo Ossian Aaltonen</td>\n",
       "      <td>M</td>\n",
       "      <td>30.0</td>\n",
       "      <td>NaN</td>\n",
       "      <td>NaN</td>\n",
       "      <td>Finland</td>\n",
       "      <td>FIN</td>\n",
       "      <td>1920 Summer</td>\n",
       "      <td>1920</td>\n",
       "      <td>Summer</td>\n",
       "      <td>Antwerpen</td>\n",
       "      <td>Swimming</td>\n",
       "      <td>Swimming Men's 400 metres Breaststroke</td>\n",
       "      <td>Bronze</td>\n",
       "    </tr>\n",
       "    <tr>\n",
       "      <th>100</th>\n",
       "      <td>Oszkr Abay-Nemes</td>\n",
       "      <td>M</td>\n",
       "      <td>22.0</td>\n",
       "      <td>NaN</td>\n",
       "      <td>NaN</td>\n",
       "      <td>Hungary</td>\n",
       "      <td>HUN</td>\n",
       "      <td>1936 Summer</td>\n",
       "      <td>1936</td>\n",
       "      <td>Summer</td>\n",
       "      <td>Berlin</td>\n",
       "      <td>Swimming</td>\n",
       "      <td>Swimming Men's 4 x 200 metres Freestyle Relay</td>\n",
       "      <td>Bronze</td>\n",
       "    </tr>\n",
       "    <tr>\n",
       "      <th>259</th>\n",
       "      <td>Reema Abdo</td>\n",
       "      <td>F</td>\n",
       "      <td>21.0</td>\n",
       "      <td>173.0</td>\n",
       "      <td>59.0</td>\n",
       "      <td>Canada</td>\n",
       "      <td>CAN</td>\n",
       "      <td>1984 Summer</td>\n",
       "      <td>1984</td>\n",
       "      <td>Summer</td>\n",
       "      <td>Los Angeles</td>\n",
       "      <td>Swimming</td>\n",
       "      <td>Swimming Women's 4 x 100 metres Medley Relay</td>\n",
       "      <td>Bronze</td>\n",
       "    </tr>\n",
       "    <tr>\n",
       "      <th>424</th>\n",
       "      <td>Moira Abernethy (-Ford)</td>\n",
       "      <td>F</td>\n",
       "      <td>17.0</td>\n",
       "      <td>NaN</td>\n",
       "      <td>NaN</td>\n",
       "      <td>South Africa</td>\n",
       "      <td>RSA</td>\n",
       "      <td>1956 Summer</td>\n",
       "      <td>1956</td>\n",
       "      <td>Summer</td>\n",
       "      <td>Melbourne</td>\n",
       "      <td>Swimming</td>\n",
       "      <td>Swimming Women's 4 x 100 metres Freestyle Relay</td>\n",
       "      <td>Bronze</td>\n",
       "    </tr>\n",
       "    <tr>\n",
       "      <th>...</th>\n",
       "      <td>...</td>\n",
       "      <td>...</td>\n",
       "      <td>...</td>\n",
       "      <td>...</td>\n",
       "      <td>...</td>\n",
       "      <td>...</td>\n",
       "      <td>...</td>\n",
       "      <td>...</td>\n",
       "      <td>...</td>\n",
       "      <td>...</td>\n",
       "      <td>...</td>\n",
       "      <td>...</td>\n",
       "      <td>...</td>\n",
       "      <td>...</td>\n",
       "    </tr>\n",
       "    <tr>\n",
       "      <th>135302</th>\n",
       "      <td>Iris Zscherpe</td>\n",
       "      <td>F</td>\n",
       "      <td>17.0</td>\n",
       "      <td>174.0</td>\n",
       "      <td>55.0</td>\n",
       "      <td>West Germany</td>\n",
       "      <td>FRG</td>\n",
       "      <td>1984 Summer</td>\n",
       "      <td>1984</td>\n",
       "      <td>Summer</td>\n",
       "      <td>Los Angeles</td>\n",
       "      <td>Swimming</td>\n",
       "      <td>Swimming Women's 4 x 100 metres Freestyle Relay</td>\n",
       "      <td>Bronze</td>\n",
       "    </tr>\n",
       "    <tr>\n",
       "      <th>135396</th>\n",
       "      <td>Martijn Hendrik Zuijdweg</td>\n",
       "      <td>M</td>\n",
       "      <td>23.0</td>\n",
       "      <td>186.0</td>\n",
       "      <td>83.0</td>\n",
       "      <td>Netherlands</td>\n",
       "      <td>NED</td>\n",
       "      <td>2000 Summer</td>\n",
       "      <td>2000</td>\n",
       "      <td>Summer</td>\n",
       "      <td>Sydney</td>\n",
       "      <td>Swimming</td>\n",
       "      <td>Swimming Men's 4 x 200 metres Freestyle Relay</td>\n",
       "      <td>Bronze</td>\n",
       "    </tr>\n",
       "    <tr>\n",
       "      <th>135415</th>\n",
       "      <td>Robertas ulpa</td>\n",
       "      <td>M</td>\n",
       "      <td>20.0</td>\n",
       "      <td>193.0</td>\n",
       "      <td>82.0</td>\n",
       "      <td>Soviet Union</td>\n",
       "      <td>URS</td>\n",
       "      <td>1980 Summer</td>\n",
       "      <td>1980</td>\n",
       "      <td>Summer</td>\n",
       "      <td>Moskva</td>\n",
       "      <td>Swimming</td>\n",
       "      <td>Swimming Men's 200 metres Breaststroke</td>\n",
       "      <td>Gold</td>\n",
       "    </tr>\n",
       "    <tr>\n",
       "      <th>135489</th>\n",
       "      <td>Anastasiya Valeryevna Zuyeva-Fesikova</td>\n",
       "      <td>F</td>\n",
       "      <td>22.0</td>\n",
       "      <td>182.0</td>\n",
       "      <td>71.0</td>\n",
       "      <td>Russia</td>\n",
       "      <td>RUS</td>\n",
       "      <td>2012 Summer</td>\n",
       "      <td>2012</td>\n",
       "      <td>Summer</td>\n",
       "      <td>London</td>\n",
       "      <td>Swimming</td>\n",
       "      <td>Swimming Women's 200 metres Backstroke</td>\n",
       "      <td>Silver</td>\n",
       "    </tr>\n",
       "    <tr>\n",
       "      <th>135522</th>\n",
       "      <td>Klaas Erik \"Klaas-Erik\" Zwering</td>\n",
       "      <td>M</td>\n",
       "      <td>23.0</td>\n",
       "      <td>189.0</td>\n",
       "      <td>80.0</td>\n",
       "      <td>Netherlands</td>\n",
       "      <td>NED</td>\n",
       "      <td>2004 Summer</td>\n",
       "      <td>2004</td>\n",
       "      <td>Summer</td>\n",
       "      <td>Athina</td>\n",
       "      <td>Swimming</td>\n",
       "      <td>Swimming Men's 4 x 100 metres Freestyle Relay</td>\n",
       "      <td>Silver</td>\n",
       "    </tr>\n",
       "  </tbody>\n",
       "</table>\n",
       "<p>3048 rows × 14 columns</p>\n",
       "</div>"
      ],
      "text/plain": [
       "                                         Name Sex   Age  Height  Weight  \\\n",
       "ID                                                                        \n",
       "15                       Arvo Ossian Aaltonen   M  30.0     NaN     NaN   \n",
       "15                       Arvo Ossian Aaltonen   M  30.0     NaN     NaN   \n",
       "100                          Oszkr Abay-Nemes   M  22.0     NaN     NaN   \n",
       "259                                Reema Abdo   F  21.0   173.0    59.0   \n",
       "424                   Moira Abernethy (-Ford)   F  17.0     NaN     NaN   \n",
       "...                                       ...  ..   ...     ...     ...   \n",
       "135302                          Iris Zscherpe   F  17.0   174.0    55.0   \n",
       "135396               Martijn Hendrik Zuijdweg   M  23.0   186.0    83.0   \n",
       "135415                          Robertas ulpa   M  20.0   193.0    82.0   \n",
       "135489  Anastasiya Valeryevna Zuyeva-Fesikova   F  22.0   182.0    71.0   \n",
       "135522        Klaas Erik \"Klaas-Erik\" Zwering   M  23.0   189.0    80.0   \n",
       "\n",
       "                Team  NOC        Games  Year  Season         City     Sport  \\\n",
       "ID                                                                            \n",
       "15           Finland  FIN  1920 Summer  1920  Summer    Antwerpen  Swimming   \n",
       "15           Finland  FIN  1920 Summer  1920  Summer    Antwerpen  Swimming   \n",
       "100          Hungary  HUN  1936 Summer  1936  Summer       Berlin  Swimming   \n",
       "259           Canada  CAN  1984 Summer  1984  Summer  Los Angeles  Swimming   \n",
       "424     South Africa  RSA  1956 Summer  1956  Summer    Melbourne  Swimming   \n",
       "...              ...  ...          ...   ...     ...          ...       ...   \n",
       "135302  West Germany  FRG  1984 Summer  1984  Summer  Los Angeles  Swimming   \n",
       "135396   Netherlands  NED  2000 Summer  2000  Summer       Sydney  Swimming   \n",
       "135415  Soviet Union  URS  1980 Summer  1980  Summer       Moskva  Swimming   \n",
       "135489        Russia  RUS  2012 Summer  2012  Summer       London  Swimming   \n",
       "135522   Netherlands  NED  2004 Summer  2004  Summer       Athina  Swimming   \n",
       "\n",
       "                                                  Event   Medal  \n",
       "ID                                                               \n",
       "15               Swimming Men's 200 metres Breaststroke  Bronze  \n",
       "15               Swimming Men's 400 metres Breaststroke  Bronze  \n",
       "100       Swimming Men's 4 x 200 metres Freestyle Relay  Bronze  \n",
       "259        Swimming Women's 4 x 100 metres Medley Relay  Bronze  \n",
       "424     Swimming Women's 4 x 100 metres Freestyle Relay  Bronze  \n",
       "...                                                 ...     ...  \n",
       "135302  Swimming Women's 4 x 100 metres Freestyle Relay  Bronze  \n",
       "135396    Swimming Men's 4 x 200 metres Freestyle Relay  Bronze  \n",
       "135415           Swimming Men's 200 metres Breaststroke    Gold  \n",
       "135489           Swimming Women's 200 metres Backstroke  Silver  \n",
       "135522    Swimming Men's 4 x 100 metres Freestyle Relay  Silver  \n",
       "\n",
       "[3048 rows x 14 columns]"
      ]
     },
     "execution_count": 62,
     "metadata": {},
     "output_type": "execute_result"
    }
   ],
   "source": [
    "swim_champ.set_index('ID')"
   ]
  },
  {
   "cell_type": "code",
   "execution_count": 57,
   "id": "27a48be4",
   "metadata": {},
   "outputs": [
    {
     "data": {
      "text/html": [
       "<div>\n",
       "<style scoped>\n",
       "    .dataframe tbody tr th:only-of-type {\n",
       "        vertical-align: middle;\n",
       "    }\n",
       "\n",
       "    .dataframe tbody tr th {\n",
       "        vertical-align: top;\n",
       "    }\n",
       "\n",
       "    .dataframe thead th {\n",
       "        text-align: right;\n",
       "    }\n",
       "</style>\n",
       "<table border=\"1\" class=\"dataframe\">\n",
       "  <thead>\n",
       "    <tr style=\"text-align: right;\">\n",
       "      <th></th>\n",
       "      <th>index</th>\n",
       "      <th>ID</th>\n",
       "      <th>Name</th>\n",
       "      <th>Sex</th>\n",
       "      <th>Age</th>\n",
       "      <th>Height</th>\n",
       "      <th>Weight</th>\n",
       "      <th>Team</th>\n",
       "      <th>NOC</th>\n",
       "      <th>Games</th>\n",
       "      <th>Year</th>\n",
       "      <th>Season</th>\n",
       "      <th>City</th>\n",
       "      <th>Sport</th>\n",
       "      <th>Event</th>\n",
       "      <th>Medal</th>\n",
       "    </tr>\n",
       "  </thead>\n",
       "  <tbody>\n",
       "    <tr>\n",
       "      <th>0</th>\n",
       "      <td>37</td>\n",
       "      <td>15</td>\n",
       "      <td>Arvo Ossian Aaltonen</td>\n",
       "      <td>M</td>\n",
       "      <td>30.0</td>\n",
       "      <td>NaN</td>\n",
       "      <td>NaN</td>\n",
       "      <td>Finland</td>\n",
       "      <td>FIN</td>\n",
       "      <td>1920 Summer</td>\n",
       "      <td>1920</td>\n",
       "      <td>Summer</td>\n",
       "      <td>Antwerpen</td>\n",
       "      <td>Swimming</td>\n",
       "      <td>Swimming Men's 200 metres Breaststroke</td>\n",
       "      <td>Bronze</td>\n",
       "    </tr>\n",
       "    <tr>\n",
       "      <th>1</th>\n",
       "      <td>38</td>\n",
       "      <td>15</td>\n",
       "      <td>Arvo Ossian Aaltonen</td>\n",
       "      <td>M</td>\n",
       "      <td>30.0</td>\n",
       "      <td>NaN</td>\n",
       "      <td>NaN</td>\n",
       "      <td>Finland</td>\n",
       "      <td>FIN</td>\n",
       "      <td>1920 Summer</td>\n",
       "      <td>1920</td>\n",
       "      <td>Summer</td>\n",
       "      <td>Antwerpen</td>\n",
       "      <td>Swimming</td>\n",
       "      <td>Swimming Men's 400 metres Breaststroke</td>\n",
       "      <td>Bronze</td>\n",
       "    </tr>\n",
       "    <tr>\n",
       "      <th>2</th>\n",
       "      <td>210</td>\n",
       "      <td>100</td>\n",
       "      <td>Oszkr Abay-Nemes</td>\n",
       "      <td>M</td>\n",
       "      <td>22.0</td>\n",
       "      <td>NaN</td>\n",
       "      <td>NaN</td>\n",
       "      <td>Hungary</td>\n",
       "      <td>HUN</td>\n",
       "      <td>1936 Summer</td>\n",
       "      <td>1936</td>\n",
       "      <td>Summer</td>\n",
       "      <td>Berlin</td>\n",
       "      <td>Swimming</td>\n",
       "      <td>Swimming Men's 4 x 200 metres Freestyle Relay</td>\n",
       "      <td>Bronze</td>\n",
       "    </tr>\n",
       "    <tr>\n",
       "      <th>3</th>\n",
       "      <td>476</td>\n",
       "      <td>259</td>\n",
       "      <td>Reema Abdo</td>\n",
       "      <td>F</td>\n",
       "      <td>21.0</td>\n",
       "      <td>173.0</td>\n",
       "      <td>59.0</td>\n",
       "      <td>Canada</td>\n",
       "      <td>CAN</td>\n",
       "      <td>1984 Summer</td>\n",
       "      <td>1984</td>\n",
       "      <td>Summer</td>\n",
       "      <td>Los Angeles</td>\n",
       "      <td>Swimming</td>\n",
       "      <td>Swimming Women's 4 x 100 metres Medley Relay</td>\n",
       "      <td>Bronze</td>\n",
       "    </tr>\n",
       "    <tr>\n",
       "      <th>4</th>\n",
       "      <td>740</td>\n",
       "      <td>424</td>\n",
       "      <td>Moira Abernethy (-Ford)</td>\n",
       "      <td>F</td>\n",
       "      <td>17.0</td>\n",
       "      <td>NaN</td>\n",
       "      <td>NaN</td>\n",
       "      <td>South Africa</td>\n",
       "      <td>RSA</td>\n",
       "      <td>1956 Summer</td>\n",
       "      <td>1956</td>\n",
       "      <td>Summer</td>\n",
       "      <td>Melbourne</td>\n",
       "      <td>Swimming</td>\n",
       "      <td>Swimming Women's 4 x 100 metres Freestyle Relay</td>\n",
       "      <td>Bronze</td>\n",
       "    </tr>\n",
       "    <tr>\n",
       "      <th>...</th>\n",
       "      <td>...</td>\n",
       "      <td>...</td>\n",
       "      <td>...</td>\n",
       "      <td>...</td>\n",
       "      <td>...</td>\n",
       "      <td>...</td>\n",
       "      <td>...</td>\n",
       "      <td>...</td>\n",
       "      <td>...</td>\n",
       "      <td>...</td>\n",
       "      <td>...</td>\n",
       "      <td>...</td>\n",
       "      <td>...</td>\n",
       "      <td>...</td>\n",
       "      <td>...</td>\n",
       "      <td>...</td>\n",
       "    </tr>\n",
       "    <tr>\n",
       "      <th>3043</th>\n",
       "      <td>270530</td>\n",
       "      <td>135302</td>\n",
       "      <td>Iris Zscherpe</td>\n",
       "      <td>F</td>\n",
       "      <td>17.0</td>\n",
       "      <td>174.0</td>\n",
       "      <td>55.0</td>\n",
       "      <td>West Germany</td>\n",
       "      <td>FRG</td>\n",
       "      <td>1984 Summer</td>\n",
       "      <td>1984</td>\n",
       "      <td>Summer</td>\n",
       "      <td>Los Angeles</td>\n",
       "      <td>Swimming</td>\n",
       "      <td>Swimming Women's 4 x 100 metres Freestyle Relay</td>\n",
       "      <td>Bronze</td>\n",
       "    </tr>\n",
       "    <tr>\n",
       "      <th>3044</th>\n",
       "      <td>270732</td>\n",
       "      <td>135396</td>\n",
       "      <td>Martijn Hendrik Zuijdweg</td>\n",
       "      <td>M</td>\n",
       "      <td>23.0</td>\n",
       "      <td>186.0</td>\n",
       "      <td>83.0</td>\n",
       "      <td>Netherlands</td>\n",
       "      <td>NED</td>\n",
       "      <td>2000 Summer</td>\n",
       "      <td>2000</td>\n",
       "      <td>Summer</td>\n",
       "      <td>Sydney</td>\n",
       "      <td>Swimming</td>\n",
       "      <td>Swimming Men's 4 x 200 metres Freestyle Relay</td>\n",
       "      <td>Bronze</td>\n",
       "    </tr>\n",
       "    <tr>\n",
       "      <th>3045</th>\n",
       "      <td>270773</td>\n",
       "      <td>135415</td>\n",
       "      <td>Robertas ulpa</td>\n",
       "      <td>M</td>\n",
       "      <td>20.0</td>\n",
       "      <td>193.0</td>\n",
       "      <td>82.0</td>\n",
       "      <td>Soviet Union</td>\n",
       "      <td>URS</td>\n",
       "      <td>1980 Summer</td>\n",
       "      <td>1980</td>\n",
       "      <td>Summer</td>\n",
       "      <td>Moskva</td>\n",
       "      <td>Swimming</td>\n",
       "      <td>Swimming Men's 200 metres Breaststroke</td>\n",
       "      <td>Gold</td>\n",
       "    </tr>\n",
       "    <tr>\n",
       "      <th>3046</th>\n",
       "      <td>270939</td>\n",
       "      <td>135489</td>\n",
       "      <td>Anastasiya Valeryevna Zuyeva-Fesikova</td>\n",
       "      <td>F</td>\n",
       "      <td>22.0</td>\n",
       "      <td>182.0</td>\n",
       "      <td>71.0</td>\n",
       "      <td>Russia</td>\n",
       "      <td>RUS</td>\n",
       "      <td>2012 Summer</td>\n",
       "      <td>2012</td>\n",
       "      <td>Summer</td>\n",
       "      <td>London</td>\n",
       "      <td>Swimming</td>\n",
       "      <td>Swimming Women's 200 metres Backstroke</td>\n",
       "      <td>Silver</td>\n",
       "    </tr>\n",
       "    <tr>\n",
       "      <th>3047</th>\n",
       "      <td>271013</td>\n",
       "      <td>135522</td>\n",
       "      <td>Klaas Erik \"Klaas-Erik\" Zwering</td>\n",
       "      <td>M</td>\n",
       "      <td>23.0</td>\n",
       "      <td>189.0</td>\n",
       "      <td>80.0</td>\n",
       "      <td>Netherlands</td>\n",
       "      <td>NED</td>\n",
       "      <td>2004 Summer</td>\n",
       "      <td>2004</td>\n",
       "      <td>Summer</td>\n",
       "      <td>Athina</td>\n",
       "      <td>Swimming</td>\n",
       "      <td>Swimming Men's 4 x 100 metres Freestyle Relay</td>\n",
       "      <td>Silver</td>\n",
       "    </tr>\n",
       "  </tbody>\n",
       "</table>\n",
       "<p>3048 rows × 16 columns</p>\n",
       "</div>"
      ],
      "text/plain": [
       "       index      ID                                   Name Sex   Age  Height  \\\n",
       "0         37      15                   Arvo Ossian Aaltonen   M  30.0     NaN   \n",
       "1         38      15                   Arvo Ossian Aaltonen   M  30.0     NaN   \n",
       "2        210     100                       Oszkr Abay-Nemes   M  22.0     NaN   \n",
       "3        476     259                             Reema Abdo   F  21.0   173.0   \n",
       "4        740     424                Moira Abernethy (-Ford)   F  17.0     NaN   \n",
       "...      ...     ...                                    ...  ..   ...     ...   \n",
       "3043  270530  135302                          Iris Zscherpe   F  17.0   174.0   \n",
       "3044  270732  135396               Martijn Hendrik Zuijdweg   M  23.0   186.0   \n",
       "3045  270773  135415                          Robertas ulpa   M  20.0   193.0   \n",
       "3046  270939  135489  Anastasiya Valeryevna Zuyeva-Fesikova   F  22.0   182.0   \n",
       "3047  271013  135522        Klaas Erik \"Klaas-Erik\" Zwering   M  23.0   189.0   \n",
       "\n",
       "      Weight          Team  NOC        Games  Year  Season         City  \\\n",
       "0        NaN       Finland  FIN  1920 Summer  1920  Summer    Antwerpen   \n",
       "1        NaN       Finland  FIN  1920 Summer  1920  Summer    Antwerpen   \n",
       "2        NaN       Hungary  HUN  1936 Summer  1936  Summer       Berlin   \n",
       "3       59.0        Canada  CAN  1984 Summer  1984  Summer  Los Angeles   \n",
       "4        NaN  South Africa  RSA  1956 Summer  1956  Summer    Melbourne   \n",
       "...      ...           ...  ...          ...   ...     ...          ...   \n",
       "3043    55.0  West Germany  FRG  1984 Summer  1984  Summer  Los Angeles   \n",
       "3044    83.0   Netherlands  NED  2000 Summer  2000  Summer       Sydney   \n",
       "3045    82.0  Soviet Union  URS  1980 Summer  1980  Summer       Moskva   \n",
       "3046    71.0        Russia  RUS  2012 Summer  2012  Summer       London   \n",
       "3047    80.0   Netherlands  NED  2004 Summer  2004  Summer       Athina   \n",
       "\n",
       "         Sport                                            Event   Medal  \n",
       "0     Swimming           Swimming Men's 200 metres Breaststroke  Bronze  \n",
       "1     Swimming           Swimming Men's 400 metres Breaststroke  Bronze  \n",
       "2     Swimming    Swimming Men's 4 x 200 metres Freestyle Relay  Bronze  \n",
       "3     Swimming     Swimming Women's 4 x 100 metres Medley Relay  Bronze  \n",
       "4     Swimming  Swimming Women's 4 x 100 metres Freestyle Relay  Bronze  \n",
       "...        ...                                              ...     ...  \n",
       "3043  Swimming  Swimming Women's 4 x 100 metres Freestyle Relay  Bronze  \n",
       "3044  Swimming    Swimming Men's 4 x 200 metres Freestyle Relay  Bronze  \n",
       "3045  Swimming           Swimming Men's 200 metres Breaststroke    Gold  \n",
       "3046  Swimming           Swimming Women's 200 metres Backstroke  Silver  \n",
       "3047  Swimming    Swimming Men's 4 x 100 metres Freestyle Relay  Silver  \n",
       "\n",
       "[3048 rows x 16 columns]"
      ]
     },
     "execution_count": 57,
     "metadata": {},
     "output_type": "execute_result"
    }
   ],
   "source": [
    "#I can now reset the index\n",
    "swim_champ.reset_index()"
   ]
  },
  {
   "cell_type": "code",
   "execution_count": 82,
   "id": "febd0861",
   "metadata": {},
   "outputs": [
    {
     "name": "stdout",
     "output_type": "stream",
     "text": [
      "                        ID                                          Name Sex  \\\n",
      "Team        Medal                                                              \n",
      "Argentina   Bronze    7809                       Georgina Bardach Martin   F   \n",
      "            Gold    135260                   Victoriano Alberto Zorrilla   M   \n",
      "            Silver   17715            Jeannette Morven Campbell (-Peper)   F   \n",
      "Australasia Bronze    9094  Francis Joseph Edmund \"Frank\" De Beaurepaire   M   \n",
      "            Bronze   46006                       Harold Hampton Hardwick   M   \n",
      "...                    ...                                           ...  ..   \n",
      "Zimbabwe    Gold     23549               Kirsty Leigh Coventry (-Seward)   F   \n",
      "            Silver   23549               Kirsty Leigh Coventry (-Seward)   F   \n",
      "            Silver   23549               Kirsty Leigh Coventry (-Seward)   F   \n",
      "            Silver   23549               Kirsty Leigh Coventry (-Seward)   F   \n",
      "            Silver   23549               Kirsty Leigh Coventry (-Seward)   F   \n",
      "\n",
      "                     Age  Height  Weight  NOC        Games  Year  Season  \\\n",
      "Team        Medal                                                          \n",
      "Argentina   Bronze  20.0   172.0    63.0  ARG  2004 Summer  2004  Summer   \n",
      "            Gold    22.0     NaN     NaN  ARG  1928 Summer  1928  Summer   \n",
      "            Silver  20.0     NaN     NaN  ARG  1936 Summer  1936  Summer   \n",
      "Australasia Bronze  16.0   170.0    65.0  ANZ  1908 Summer  1908  Summer   \n",
      "            Bronze  23.0     NaN     NaN  ANZ  1912 Summer  1912  Summer   \n",
      "...                  ...     ...     ...  ...          ...   ...     ...   \n",
      "Zimbabwe    Gold    24.0   176.0    64.0  ZIM  2008 Summer  2008  Summer   \n",
      "            Silver  20.0   176.0    64.0  ZIM  2004 Summer  2004  Summer   \n",
      "            Silver  24.0   176.0    64.0  ZIM  2008 Summer  2008  Summer   \n",
      "            Silver  24.0   176.0    64.0  ZIM  2008 Summer  2008  Summer   \n",
      "            Silver  24.0   176.0    64.0  ZIM  2008 Summer  2008  Summer   \n",
      "\n",
      "                         City     Sport  \\\n",
      "Team        Medal                         \n",
      "Argentina   Bronze     Athina  Swimming   \n",
      "            Gold    Amsterdam  Swimming   \n",
      "            Silver     Berlin  Swimming   \n",
      "Australasia Bronze     London  Swimming   \n",
      "            Bronze  Stockholm  Swimming   \n",
      "...                       ...       ...   \n",
      "Zimbabwe    Gold      Beijing  Swimming   \n",
      "            Silver     Athina  Swimming   \n",
      "            Silver    Beijing  Swimming   \n",
      "            Silver    Beijing  Swimming   \n",
      "            Silver    Beijing  Swimming   \n",
      "\n",
      "                                                            Event  \n",
      "Team        Medal                                                  \n",
      "Argentina   Bronze  Swimming Women's 400 metres Individual Medley  \n",
      "            Gold              Swimming Men's 400 metres Freestyle  \n",
      "            Silver          Swimming Women's 100 metres Freestyle  \n",
      "Australasia Bronze          Swimming Men's 1,500 metres Freestyle  \n",
      "            Bronze            Swimming Men's 400 metres Freestyle  \n",
      "...                                                           ...  \n",
      "Zimbabwe    Gold           Swimming Women's 200 metres Backstroke  \n",
      "            Silver         Swimming Women's 100 metres Backstroke  \n",
      "            Silver         Swimming Women's 100 metres Backstroke  \n",
      "            Silver  Swimming Women's 200 metres Individual Medley  \n",
      "            Silver  Swimming Women's 400 metres Individual Medley  \n",
      "\n",
      "[3048 rows x 13 columns]\n"
     ]
    }
   ],
   "source": [
    "#We can add more detail to the index by adding 2 columns to it, Team and Medal, and sorting on this index\n",
    "country_medal=swim_champ.set_index(['Team','Medal'])\n",
    "Country_medal=country_medal.sort_index()\n",
    "print(Country_medal)"
   ]
  },
  {
   "cell_type": "code",
   "execution_count": 83,
   "id": "af34d91e",
   "metadata": {},
   "outputs": [
    {
     "name": "stdout",
     "output_type": "stream",
     "text": [
      "                    ID                              Name Sex   Age  Height  \\\n",
      "Team    Medal                                                                \n",
      "Ireland Bronze  112357  Michelle Marie Smith (-De Bruin)   F  26.0   160.0   \n",
      "        Gold    112357  Michelle Marie Smith (-De Bruin)   F  26.0   160.0   \n",
      "        Gold    112357  Michelle Marie Smith (-De Bruin)   F  26.0   160.0   \n",
      "        Gold    112357  Michelle Marie Smith (-De Bruin)   F  26.0   160.0   \n",
      "France  Bronze    7347                     Coralie Balmy   F  25.0   180.0   \n",
      "...                ...                               ...  ..   ...     ...   \n",
      "        Silver  111484              Andr Jules Henri Six   M  20.0     NaN   \n",
      "        Silver  114753                    Boris Steimetz   M  21.0   187.0   \n",
      "        Silver  115717                     Jrmy Stravius   M  24.0   190.0   \n",
      "        Silver  115717                     Jrmy Stravius   M  28.0   190.0   \n",
      "        Silver  118625           Jean Charles mile Taris   M  23.0   178.0   \n",
      "\n",
      "                Weight  NOC        Games  Year  Season            City  \\\n",
      "Team    Medal                                                            \n",
      "Ireland Bronze    71.0  IRL  1996 Summer  1996  Summer         Atlanta   \n",
      "        Gold      71.0  IRL  1996 Summer  1996  Summer         Atlanta   \n",
      "        Gold      71.0  IRL  1996 Summer  1996  Summer         Atlanta   \n",
      "        Gold      71.0  IRL  1996 Summer  1996  Summer         Atlanta   \n",
      "France  Bronze    67.0  FRA  2012 Summer  2012  Summer          London   \n",
      "...                ...  ...          ...   ...     ...             ...   \n",
      "        Silver     NaN  FRA  1900 Summer  1900  Summer           Paris   \n",
      "        Silver    75.0  FRA  2008 Summer  2008  Summer         Beijing   \n",
      "        Silver    86.0  FRA  2012 Summer  2012  Summer          London   \n",
      "        Silver    86.0  FRA  2016 Summer  2016  Summer  Rio de Janeiro   \n",
      "        Silver     NaN  FRA  1932 Summer  1932  Summer     Los Angeles   \n",
      "\n",
      "                   Sport                                            Event  \n",
      "Team    Medal                                                              \n",
      "Ireland Bronze  Swimming            Swimming Women's 200 metres Butterfly  \n",
      "        Gold    Swimming            Swimming Women's 400 metres Freestyle  \n",
      "        Gold    Swimming    Swimming Women's 200 metres Individual Medley  \n",
      "        Gold    Swimming    Swimming Women's 400 metres Individual Medley  \n",
      "France  Bronze  Swimming  Swimming Women's 4 x 200 metres Freestyle Relay  \n",
      "...                  ...                                              ...  \n",
      "        Silver  Swimming               Swimming Men's Underwater Swimming  \n",
      "        Silver  Swimming    Swimming Men's 4 x 100 metres Freestyle Relay  \n",
      "        Silver  Swimming    Swimming Men's 4 x 200 metres Freestyle Relay  \n",
      "        Silver  Swimming    Swimming Men's 4 x 100 metres Freestyle Relay  \n",
      "        Silver  Swimming              Swimming Men's 400 metres Freestyle  \n",
      "\n",
      "[75 rows x 13 columns]\n"
     ]
    }
   ],
   "source": [
    "#We can now use the .loc command to subset the data to find which medals were won by two countries, Ireland and France\n",
    "countries=['Ireland', 'France']\n",
    "print(Country_medal.loc[countries])\n",
    "#I am sorry to say that on this occasion France has us beaten"
   ]
  },
  {
   "cell_type": "code",
   "execution_count": 93,
   "id": "c05a780c",
   "metadata": {},
   "outputs": [
    {
     "name": "stdout",
     "output_type": "stream",
     "text": [
      "                        ID                                          Name\n",
      "Team        Medal                                                       \n",
      "Argentina   Bronze    7809                       Georgina Bardach Martin\n",
      "            Gold    135260                   Victoriano Alberto Zorrilla\n",
      "            Silver   17715            Jeannette Morven Campbell (-Peper)\n",
      "Australasia Bronze    9094  Francis Joseph Edmund \"Frank\" De Beaurepaire\n",
      "            Bronze   46006                       Harold Hampton Hardwick\n",
      "            Bronze   46006                       Harold Hampton Hardwick\n",
      "            Gold     12448                         Leslie \"Les\" Boardman\n",
      "            Gold     19659                        Malcolm Eadie Champion\n",
      "            Gold     30777        Sarah Frances \"Fanny\" Durack (-Gately)\n",
      "            Gold     46006                       Harold Hampton Hardwick\n",
      "            Gold     46968                           Cecil Patrick Healy\n",
      "            Silver    9094  Francis Joseph Edmund \"Frank\" De Beaurepaire\n",
      "            Silver   46968                           Cecil Patrick Healy\n",
      "            Silver  131941                       Wilhelmina \"Mina\" Wylie\n",
      "Australia   Bronze     465                          Matthew \"Matt\" Abood\n",
      "            Bronze    4145               Janice \"Jan\" Andrew (-Thornett)\n",
      "            Bronze    8051                  Bronte Amelia Arnold Barratt\n",
      "            Bronze    9094  Francis Joseph Edmund \"Frank\" De Beaurepaire\n",
      "            Bronze    9094  Francis Joseph Edmund \"Frank\" De Beaurepaire\n",
      "            Bronze   10804                              Kevin John Berry\n",
      "            Bronze   15006                          Graeme Thomas Brewer\n",
      "            Bronze   15177                             Grant Tyson Brits\n",
      "            Bronze   15266                                  Leith Brodie\n",
      "            Bronze   15266                                  Leith Brodie\n",
      "            Bronze   15387                                   Neil Brooks\n",
      "            Bronze   15433                    Gregory John \"Greg\" Brough\n",
      "            Bronze   16009                         Glenn Robert Buchanan\n",
      "            Bronze   16009                         Glenn Robert Buchanan\n",
      "            Bronze   17494                            Ashley John Callus\n",
      "            Bronze   17687                         Cate Natalie Campbell\n",
      "            Bronze   17687                         Cate Natalie Campbell\n",
      "            Bronze   19603                                 Kyle Chalmers\n",
      "            Bronze   19603                                 Kyle Chalmers\n",
      "            Bronze   19844                           Gary Arthur Chapman\n",
      "            Bronze   19920                  Andrew Murray \"Boy\" Charlton\n",
      "            Bronze   23519                           Alicia Jayne Coutts\n",
      "            Bronze   24435                         Robert Stephen Cusack\n",
      "            Bronze   25633                  Judith Joy \"Judy-Joy\" Davies\n",
      "            Bronze   27959                            John Thomas Devitt\n",
      "            Bronze   27987                          Steven Dennis Dewick\n",
      "            Bronze   28368                           David Gavin Dickson\n",
      "            Bronze   28368                           David Gavin Dickson\n",
      "            Bronze   28368                           David Gavin Dickson\n",
      "            Bronze   28926                             Tommaso D'Orsogna\n",
      "            Bronze   28945                               Peter John Doak\n",
      "            Bronze   33467                           Peter Maxwell Evans\n",
      "            Bronze   33467                           Peter Maxwell Evans\n",
      "            Bronze   33467                           Peter Maxwell Evans\n",
      "            Bronze   35125                  Nicholas David \"Nick\" Ffrost\n",
      "            Bronze   36236                 Michelle Jan Ford (-Eriksson)\n"
     ]
    }
   ],
   "source": [
    "# iloc can also be used to sort rows and columns, the example given here is the first 50 rows and index, name and ID columns\n",
    "print(Country_medal.iloc[0:50,0:2])"
   ]
  },
  {
   "cell_type": "code",
   "execution_count": null,
   "id": "0bad44a3",
   "metadata": {},
   "outputs": [],
   "source": [
    "#GROUPING"
   ]
  },
  {
   "cell_type": "code",
   "execution_count": 28,
   "id": "36639662",
   "metadata": {},
   "outputs": [],
   "source": [
    "#Using grouping, I can determine the average height of a gold, silver or bronze medal winner"
   ]
  },
  {
   "cell_type": "code",
   "execution_count": 36,
   "id": "0ae9f543",
   "metadata": {},
   "outputs": [
    {
     "data": {
      "text/plain": [
       "Medal\n",
       "Bronze    180.039241\n",
       "Gold      181.689840\n",
       "Silver    180.901190\n",
       "Name: Height, dtype: float64"
      ]
     },
     "execution_count": 36,
     "metadata": {},
     "output_type": "execute_result"
    }
   ],
   "source": [
    "swim_champ.groupby('Medal')['Height'].mean()"
   ]
  },
  {
   "cell_type": "code",
   "execution_count": 37,
   "id": "df77cadb",
   "metadata": {},
   "outputs": [
    {
     "data": {
      "text/plain": [
       "Medal   Sex\n",
       "Bronze  F      173.405914\n",
       "        M      185.942584\n",
       "Gold    F      174.348730\n",
       "        M      188.021912\n",
       "Silver  F      174.282116\n",
       "        M      186.832957\n",
       "Name: Height, dtype: float64"
      ]
     },
     "execution_count": 37,
     "metadata": {},
     "output_type": "execute_result"
    }
   ],
   "source": [
    "#this indicates that on average, the most successful olympians are taller, we can now further specify this on sex\n",
    "swim_champ.groupby(['Medal', 'Sex'])['Height'].mean()"
   ]
  },
  {
   "cell_type": "code",
   "execution_count": 38,
   "id": "91221c3b",
   "metadata": {},
   "outputs": [],
   "source": [
    "# We see that the advantage of height is more apparent in males than in females\n"
   ]
  },
  {
   "cell_type": "code",
   "execution_count": 39,
   "id": "920b5cb2",
   "metadata": {},
   "outputs": [
    {
     "data": {
      "text/plain": [
       "Medal   Sex\n",
       "Bronze  F      33.0\n",
       "        M      46.0\n",
       "Gold    F      33.0\n",
       "        M      35.0\n",
       "Silver  F      41.0\n",
       "        M      37.0\n",
       "Name: Age, dtype: float64"
      ]
     },
     "execution_count": 39,
     "metadata": {},
     "output_type": "execute_result"
    }
   ],
   "source": [
    "#We can also assess use grouping to find the oldest and youngest medal winner for each medal and sex\n",
    "swim_champ.groupby(['Medal', 'Sex'])['Age'].max()"
   ]
  },
  {
   "cell_type": "code",
   "execution_count": 40,
   "id": "c36d642d",
   "metadata": {},
   "outputs": [
    {
     "data": {
      "text/plain": [
       "Medal   Sex\n",
       "Bronze  F      12.0\n",
       "        M      16.0\n",
       "Gold    F      13.0\n",
       "        M      14.0\n",
       "Silver  F      13.0\n",
       "        M      15.0\n",
       "Name: Age, dtype: float64"
      ]
     },
     "execution_count": 40,
     "metadata": {},
     "output_type": "execute_result"
    }
   ],
   "source": [
    "swim_champ.groupby(['Medal', 'Sex'])['Age'].min()"
   ]
  },
  {
   "cell_type": "code",
   "execution_count": 94,
   "id": "d71e15b1",
   "metadata": {},
   "outputs": [],
   "source": [
    "#This suggests that younger athletes perform better than younger ones, particularly among females"
   ]
  },
  {
   "cell_type": "code",
   "execution_count": 99,
   "id": "d7fa4b8a",
   "metadata": {},
   "outputs": [
    {
     "data": {
      "text/plain": [
       "ID        False\n",
       "Name      False\n",
       "Sex       False\n",
       "Age        True\n",
       "Height     True\n",
       "Weight     True\n",
       "Team      False\n",
       "NOC       False\n",
       "Games     False\n",
       "Year      False\n",
       "Season    False\n",
       "City      False\n",
       "Sport     False\n",
       "Event     False\n",
       "Medal     False\n",
       "dtype: bool"
      ]
     },
     "execution_count": 99,
     "metadata": {},
     "output_type": "execute_result"
    }
   ],
   "source": [
    "#DROP DUPLICATES AND REPLACE MISSING VALUES\n",
    "#Using the .isna() and .any() commands on the dataset, we see only the age, height and weight columns have data missing\n",
    "swim_champ.isna().any()"
   ]
  },
  {
   "cell_type": "code",
   "execution_count": 100,
   "id": "a51d4476",
   "metadata": {},
   "outputs": [
    {
     "data": {
      "text/plain": [
       "ID          0\n",
       "Name        0\n",
       "Sex         0\n",
       "Age        21\n",
       "Height    483\n",
       "Weight    560\n",
       "Team        0\n",
       "NOC         0\n",
       "Games       0\n",
       "Year        0\n",
       "Season      0\n",
       "City        0\n",
       "Sport       0\n",
       "Event       0\n",
       "Medal       0\n",
       "dtype: int64"
      ]
     },
     "execution_count": 100,
     "metadata": {},
     "output_type": "execute_result"
    }
   ],
   "source": [
    "#We can now count these missing values\n",
    "swim_champ.isna().sum()"
   ]
  },
  {
   "cell_type": "code",
   "execution_count": 102,
   "id": "b8c24d57",
   "metadata": {},
   "outputs": [
    {
     "name": "stdout",
     "output_type": "stream",
     "text": [
      "            ID                                   Name Sex   Age  Height  \\\n",
      "476        259                             Reema Abdo   F  21.0   173.0   \n",
      "803        460             Viktor Andreyevich Aboimov   M  22.0   190.0   \n",
      "804        460             Viktor Andreyevich Aboimov   M  22.0   190.0   \n",
      "814        465                   Matthew \"Matt\" Abood   M  30.0   197.0   \n",
      "892        509                           Gary Abraham   M  21.0   175.0   \n",
      "...        ...                                    ...  ..   ...     ...   \n",
      "270530  135302                          Iris Zscherpe   F  17.0   174.0   \n",
      "270732  135396               Martijn Hendrik Zuijdweg   M  23.0   186.0   \n",
      "270773  135415                          Robertas ulpa   M  20.0   193.0   \n",
      "270939  135489  Anastasiya Valeryevna Zuyeva-Fesikova   F  22.0   182.0   \n",
      "271013  135522        Klaas Erik \"Klaas-Erik\" Zwering   M  23.0   189.0   \n",
      "\n",
      "        Weight           Team  NOC        Games  Year  Season            City  \\\n",
      "476       59.0         Canada  CAN  1984 Summer  1984  Summer     Los Angeles   \n",
      "803       78.0   Soviet Union  URS  1972 Summer  1972  Summer          Munich   \n",
      "804       78.0   Soviet Union  URS  1972 Summer  1972  Summer          Munich   \n",
      "814       92.0      Australia  AUS  2016 Summer  2016  Summer  Rio de Janeiro   \n",
      "892       64.0  Great Britain  GBR  1980 Summer  1980  Summer          Moskva   \n",
      "...        ...            ...  ...          ...   ...     ...             ...   \n",
      "270530    55.0   West Germany  FRG  1984 Summer  1984  Summer     Los Angeles   \n",
      "270732    83.0    Netherlands  NED  2000 Summer  2000  Summer          Sydney   \n",
      "270773    82.0   Soviet Union  URS  1980 Summer  1980  Summer          Moskva   \n",
      "270939    71.0         Russia  RUS  2012 Summer  2012  Summer          London   \n",
      "271013    80.0    Netherlands  NED  2004 Summer  2004  Summer          Athina   \n",
      "\n",
      "           Sport                                            Event   Medal  \n",
      "476     Swimming     Swimming Women's 4 x 100 metres Medley Relay  Bronze  \n",
      "803     Swimming    Swimming Men's 4 x 100 metres Freestyle Relay  Silver  \n",
      "804     Swimming    Swimming Men's 4 x 200 metres Freestyle Relay  Bronze  \n",
      "814     Swimming    Swimming Men's 4 x 100 metres Freestyle Relay  Bronze  \n",
      "892     Swimming       Swimming Men's 4 x 100 metres Medley Relay  Bronze  \n",
      "...          ...                                              ...     ...  \n",
      "270530  Swimming  Swimming Women's 4 x 100 metres Freestyle Relay  Bronze  \n",
      "270732  Swimming    Swimming Men's 4 x 200 metres Freestyle Relay  Bronze  \n",
      "270773  Swimming           Swimming Men's 200 metres Breaststroke    Gold  \n",
      "270939  Swimming           Swimming Women's 200 metres Backstroke  Silver  \n",
      "271013  Swimming    Swimming Men's 4 x 100 metres Freestyle Relay  Silver  \n",
      "\n",
      "[2486 rows x 15 columns]\n"
     ]
    }
   ],
   "source": [
    "# A command could be passed to remove these incomplete records\n",
    "swim_champ_full_records=swim_champ.dropna()\n",
    "print(swim_champ_full_records)"
   ]
  },
  {
   "cell_type": "code",
   "execution_count": 104,
   "id": "226f3b71",
   "metadata": {},
   "outputs": [
    {
     "data": {
      "text/plain": [
       "ID        0\n",
       "Name      0\n",
       "Sex       0\n",
       "Age       0\n",
       "Height    0\n",
       "Weight    0\n",
       "Team      0\n",
       "NOC       0\n",
       "Games     0\n",
       "Year      0\n",
       "Season    0\n",
       "City      0\n",
       "Sport     0\n",
       "Event     0\n",
       "Medal     0\n",
       "dtype: int64"
      ]
     },
     "execution_count": 104,
     "metadata": {},
     "output_type": "execute_result"
    }
   ],
   "source": [
    "swim_champ_full_records.isna().sum()"
   ]
  },
  {
   "cell_type": "code",
   "execution_count": 105,
   "id": "f2ec0ad5",
   "metadata": {},
   "outputs": [],
   "source": [
    "#but doing so could risk removing important data, so we can replace these with 0 instead"
   ]
  },
  {
   "cell_type": "code",
   "execution_count": 106,
   "id": "aed2dfac",
   "metadata": {},
   "outputs": [],
   "source": [
    "swim_champ_missing_value_0= swim_champ.fillna(0)"
   ]
  },
  {
   "cell_type": "code",
   "execution_count": 108,
   "id": "f1507286",
   "metadata": {},
   "outputs": [
    {
     "data": {
      "text/plain": [
       "<bound method NDFrame._add_numeric_operations.<locals>.any of            ID   Name    Sex    Age  Height  Weight   Team    NOC  Games  \\\n",
       "37      False  False  False  False   False   False  False  False  False   \n",
       "38      False  False  False  False   False   False  False  False  False   \n",
       "210     False  False  False  False   False   False  False  False  False   \n",
       "476     False  False  False  False   False   False  False  False  False   \n",
       "740     False  False  False  False   False   False  False  False  False   \n",
       "...       ...    ...    ...    ...     ...     ...    ...    ...    ...   \n",
       "270530  False  False  False  False   False   False  False  False  False   \n",
       "270732  False  False  False  False   False   False  False  False  False   \n",
       "270773  False  False  False  False   False   False  False  False  False   \n",
       "270939  False  False  False  False   False   False  False  False  False   \n",
       "271013  False  False  False  False   False   False  False  False  False   \n",
       "\n",
       "         Year  Season   City  Sport  Event  Medal  \n",
       "37      False   False  False  False  False  False  \n",
       "38      False   False  False  False  False  False  \n",
       "210     False   False  False  False  False  False  \n",
       "476     False   False  False  False  False  False  \n",
       "740     False   False  False  False  False  False  \n",
       "...       ...     ...    ...    ...    ...    ...  \n",
       "270530  False   False  False  False  False  False  \n",
       "270732  False   False  False  False  False  False  \n",
       "270773  False   False  False  False  False  False  \n",
       "270939  False   False  False  False  False  False  \n",
       "271013  False   False  False  False  False  False  \n",
       "\n",
       "[3048 rows x 15 columns]>"
      ]
     },
     "execution_count": 108,
     "metadata": {},
     "output_type": "execute_result"
    }
   ],
   "source": [
    "swim_champ_missing_value_0.isna().any()"
   ]
  },
  {
   "cell_type": "code",
   "execution_count": 109,
   "id": "45aa0fa0",
   "metadata": {},
   "outputs": [],
   "source": [
    "#Dropping duplicates is risky with this dataset, as some individuals are listed twice based on their achievements\n",
    "#But it is done nonetheless, albeit carefully\n",
    "#To avoid removing multiple wins by one athlete, dropping duplicates is done as follows\n",
    "swim_champ_tidy=swim_champ.drop_duplicates(['Name', 'Team', 'Year', 'Event'])"
   ]
  },
  {
   "cell_type": "code",
   "execution_count": 110,
   "id": "16c41068",
   "metadata": {},
   "outputs": [
    {
     "name": "stdout",
     "output_type": "stream",
     "text": [
      "            ID                                   Name Sex   Age  Height  \\\n",
      "37          15                   Arvo Ossian Aaltonen   M  30.0     NaN   \n",
      "38          15                   Arvo Ossian Aaltonen   M  30.0     NaN   \n",
      "210        100                       Oszkr Abay-Nemes   M  22.0     NaN   \n",
      "476        259                             Reema Abdo   F  21.0   173.0   \n",
      "740        424                Moira Abernethy (-Ford)   F  17.0     NaN   \n",
      "...        ...                                    ...  ..   ...     ...   \n",
      "270530  135302                          Iris Zscherpe   F  17.0   174.0   \n",
      "270732  135396               Martijn Hendrik Zuijdweg   M  23.0   186.0   \n",
      "270773  135415                          Robertas ulpa   M  20.0   193.0   \n",
      "270939  135489  Anastasiya Valeryevna Zuyeva-Fesikova   F  22.0   182.0   \n",
      "271013  135522        Klaas Erik \"Klaas-Erik\" Zwering   M  23.0   189.0   \n",
      "\n",
      "        Weight          Team  NOC        Games  Year  Season         City  \\\n",
      "37         NaN       Finland  FIN  1920 Summer  1920  Summer    Antwerpen   \n",
      "38         NaN       Finland  FIN  1920 Summer  1920  Summer    Antwerpen   \n",
      "210        NaN       Hungary  HUN  1936 Summer  1936  Summer       Berlin   \n",
      "476       59.0        Canada  CAN  1984 Summer  1984  Summer  Los Angeles   \n",
      "740        NaN  South Africa  RSA  1956 Summer  1956  Summer    Melbourne   \n",
      "...        ...           ...  ...          ...   ...     ...          ...   \n",
      "270530    55.0  West Germany  FRG  1984 Summer  1984  Summer  Los Angeles   \n",
      "270732    83.0   Netherlands  NED  2000 Summer  2000  Summer       Sydney   \n",
      "270773    82.0  Soviet Union  URS  1980 Summer  1980  Summer       Moskva   \n",
      "270939    71.0        Russia  RUS  2012 Summer  2012  Summer       London   \n",
      "271013    80.0   Netherlands  NED  2004 Summer  2004  Summer       Athina   \n",
      "\n",
      "           Sport                                            Event   Medal  \n",
      "37      Swimming           Swimming Men's 200 metres Breaststroke  Bronze  \n",
      "38      Swimming           Swimming Men's 400 metres Breaststroke  Bronze  \n",
      "210     Swimming    Swimming Men's 4 x 200 metres Freestyle Relay  Bronze  \n",
      "476     Swimming     Swimming Women's 4 x 100 metres Medley Relay  Bronze  \n",
      "740     Swimming  Swimming Women's 4 x 100 metres Freestyle Relay  Bronze  \n",
      "...          ...                                              ...     ...  \n",
      "270530  Swimming  Swimming Women's 4 x 100 metres Freestyle Relay  Bronze  \n",
      "270732  Swimming    Swimming Men's 4 x 200 metres Freestyle Relay  Bronze  \n",
      "270773  Swimming           Swimming Men's 200 metres Breaststroke    Gold  \n",
      "270939  Swimming           Swimming Women's 200 metres Backstroke  Silver  \n",
      "271013  Swimming    Swimming Men's 4 x 100 metres Freestyle Relay  Silver  \n",
      "\n",
      "[3048 rows x 15 columns]\n"
     ]
    }
   ],
   "source": [
    "print(swim_champ_tidy)"
   ]
  },
  {
   "cell_type": "code",
   "execution_count": 111,
   "id": "6cdc4973",
   "metadata": {},
   "outputs": [
    {
     "name": "stderr",
     "output_type": "stream",
     "text": [
      "C:\\Users\\Jim\\anacondaforjupiter\\lib\\site-packages\\IPython\\core\\interactiveshell.py:3165: DtypeWarning: Columns (35) have mixed types.Specify dtype option on import or set low_memory=False.\n",
      "  has_raised = await self.run_ast_nodes(code_ast.body, cell_name,\n"
     ]
    }
   ],
   "source": [
    "# MERGE DATAFRAMES\n",
    "#I now aim to merge the swimming dataframe with the powerlifting dataframe imported earlier\n",
    "powerlifting= pd.read_csv('openpowerlifting.csv')"
   ]
  },
  {
   "cell_type": "code",
   "execution_count": 130,
   "id": "555218b2",
   "metadata": {},
   "outputs": [
    {
     "name": "stdout",
     "output_type": "stream",
     "text": [
      "<class 'pandas.core.frame.DataFrame'>\n",
      "RangeIndex: 1423354 entries, 0 to 1423353\n",
      "Data columns (total 37 columns):\n",
      " #   Column           Non-Null Count    Dtype  \n",
      "---  ------           --------------    -----  \n",
      " 0   Name             1423354 non-null  object \n",
      " 1   Sex              1423354 non-null  object \n",
      " 2   Event            1423354 non-null  object \n",
      " 3   Equipment        1423354 non-null  object \n",
      " 4   Age              757527 non-null   float64\n",
      " 5   AgeClass         786800 non-null   object \n",
      " 6   Division         1415176 non-null  object \n",
      " 7   BodyweightKg     1406622 non-null  float64\n",
      " 8   WeightClassKg    1410042 non-null  object \n",
      " 9   Squat1Kg         337580 non-null   float64\n",
      " 10  Squat2Kg         333349 non-null   float64\n",
      " 11  Squat3Kg         323842 non-null   float64\n",
      " 12  Squat4Kg         3696 non-null     float64\n",
      " 13  Best3SquatKg     1031450 non-null  float64\n",
      " 14  Bench1Kg         499779 non-null   float64\n",
      " 15  Bench2Kg         493486 non-null   float64\n",
      " 16  Bench3Kg         478485 non-null   float64\n",
      " 17  Bench4Kg         9505 non-null     float64\n",
      " 18  Best3BenchKg     1276181 non-null  float64\n",
      " 19  Deadlift1Kg      363544 non-null   float64\n",
      " 20  Deadlift2Kg      356023 non-null   float64\n",
      " 21  Deadlift3Kg      339947 non-null   float64\n",
      " 22  Deadlift4Kg      9246 non-null     float64\n",
      " 23  Best3DeadliftKg  1081808 non-null  float64\n",
      " 24  TotalKg          1313184 non-null  float64\n",
      " 25  Place            1423354 non-null  object \n",
      " 26  Wilks            1304407 non-null  float64\n",
      " 27  McCulloch        1304254 non-null  float64\n",
      " 28  Glossbrenner     1304407 non-null  float64\n",
      " 29  IPFPoints        1273286 non-null  float64\n",
      " 30  Tested           1093892 non-null  object \n",
      " 31  Country          388884 non-null   object \n",
      " 32  Federation       1423354 non-null  object \n",
      " 33  Date             1423354 non-null  object \n",
      " 34  MeetCountry      1423354 non-null  object \n",
      " 35  MeetState        941545 non-null   object \n",
      " 36  MeetName         1423354 non-null  object \n",
      "dtypes: float64(22), object(15)\n",
      "memory usage: 401.8+ MB\n"
     ]
    }
   ],
   "source": [
    "powerlifting.info()"
   ]
  },
  {
   "cell_type": "code",
   "execution_count": 112,
   "id": "483a9cf1",
   "metadata": {},
   "outputs": [
    {
     "data": {
      "text/plain": [
       "Name                     0\n",
       "Sex                      0\n",
       "Event                    0\n",
       "Equipment                0\n",
       "Age                 665827\n",
       "AgeClass            636554\n",
       "Division              8178\n",
       "BodyweightKg         16732\n",
       "WeightClassKg        13312\n",
       "Squat1Kg           1085774\n",
       "Squat2Kg           1090005\n",
       "Squat3Kg           1099512\n",
       "Squat4Kg           1419658\n",
       "Best3SquatKg        391904\n",
       "Bench1Kg            923575\n",
       "Bench2Kg            929868\n",
       "Bench3Kg            944869\n",
       "Bench4Kg           1413849\n",
       "Best3BenchKg        147173\n",
       "Deadlift1Kg        1059810\n",
       "Deadlift2Kg        1067331\n",
       "Deadlift3Kg        1083407\n",
       "Deadlift4Kg        1414108\n",
       "Best3DeadliftKg     341546\n",
       "TotalKg             110170\n",
       "Place                    0\n",
       "Wilks               118947\n",
       "McCulloch           119100\n",
       "Glossbrenner        118947\n",
       "IPFPoints           150068\n",
       "Tested              329462\n",
       "Country            1034470\n",
       "Federation               0\n",
       "Date                     0\n",
       "MeetCountry              0\n",
       "MeetState           481809\n",
       "MeetName                 0\n",
       "dtype: int64"
      ]
     },
     "execution_count": 112,
     "metadata": {},
     "output_type": "execute_result"
    }
   ],
   "source": [
    "#This is first tidied to remove missing values\n",
    "powerlifting.isna().sum()"
   ]
  },
  {
   "cell_type": "code",
   "execution_count": 121,
   "id": "d5949f6e",
   "metadata": {},
   "outputs": [],
   "source": [
    "powerlifting_clean=powerlifting.dropna()"
   ]
  },
  {
   "cell_type": "code",
   "execution_count": 123,
   "id": "634a6492",
   "metadata": {},
   "outputs": [
    {
     "data": {
      "text/plain": [
       "<bound method DataFrame.info of                    Name Sex Event  Equipment   Age AgeClass  \\\n",
       "63986     Kylie Beutler   F   SBD      Wraps  23.0    20-23   \n",
       "66457    Kaitlynn Naert   F   SBD      Wraps  13.0    13-15   \n",
       "67030    Carol Moorhead   F   SBD      Wraps  55.0    55-59   \n",
       "67031     Nancy Lowther   F   SBD      Wraps  58.0    55-59   \n",
       "69557        Roger Shaw   M   SBD      Wraps  73.0    70-74   \n",
       "646493     Ryan Lapadat   M   SBD        Raw  26.0    24-34   \n",
       "646495     Denis Pronin   M   SBD  Multi-ply  20.0    20-23   \n",
       "652230       Brooke Zak   F   SBD        Raw  12.5    13-15   \n",
       "658136       Brooke Zak   F   SBD        Raw  12.0     5-12   \n",
       "658137       Brooke Zak   F   SBD        Raw  12.0     5-12   \n",
       "658150  Frank Ferchland   M   SBD        Raw  50.5    50-54   \n",
       "658151  Frank Ferchland   M   SBD        Raw  50.5    50-54   \n",
       "658152  Frank Ferchland   M   SBD        Raw  50.5    50-54   \n",
       "919233  Michael Trentin   M   SBD  Multi-ply  18.0    18-19   \n",
       "\n",
       "                 Division  BodyweightKg WeightClassKg  Squat1Kg  ...  \\\n",
       "63986       Juniors 20-23         56.00            56     83.91  ...   \n",
       "66457          Teen 13-15        103.69           90+     43.09  ...   \n",
       "67030                Open         74.39            75     79.38  ...   \n",
       "67031                Open         87.09            90     90.72  ...   \n",
       "69557       Masters 70-79         74.12            75    147.42  ...   \n",
       "646493               Open         81.70          82.5    142.50  ...   \n",
       "646495      Juniors 20-23         76.30          82.5    125.00  ...   \n",
       "652230         Teen 12-13         44.54            48     40.00  ...   \n",
       "658136         Teen 12-13         43.27            44     37.50  ...   \n",
       "658137               Open         43.27            44     37.50  ...   \n",
       "658150               Open        106.87           110    142.50  ...   \n",
       "658151  Law/Fire/Military        106.87           110    142.50  ...   \n",
       "658152      Masters 50-54        106.87           110    142.50  ...   \n",
       "919233              MO-MP         64.45          67.5    117.50  ...   \n",
       "\n",
       "        McCulloch  Glossbrenner  IPFPoints  Tested    Country  Federation  \\\n",
       "63986      338.90        299.77     523.61     Yes        USA         WPA   \n",
       "66457      263.24        175.84     359.25     Yes        USA         APA   \n",
       "67030      273.44        196.41     374.65     Yes        USA         APA   \n",
       "67031      336.19        227.02     449.73     Yes        USA         APA   \n",
       "69557      546.53        301.14     443.10     Yes        USA         APA   \n",
       "646493     347.04        335.10     505.60     Yes     Canada         CPO   \n",
       "646495     322.77        303.01     411.52     Yes     Canada         CPO   \n",
       "652230     286.01        200.16     303.20     Yes        USA         RAW   \n",
       "658136     312.43        211.11     318.59     Yes        USA         RAW   \n",
       "658137     312.43        211.11     318.59     Yes        USA         RAW   \n",
       "658150     323.84        274.82     390.62     Yes        USA         RAW   \n",
       "658151     323.84        274.82     390.62     Yes        USA         RAW   \n",
       "658152     323.84        274.82     390.62     Yes        USA         RAW   \n",
       "919233     316.24        289.83     394.62     Yes  Australia        CAPO   \n",
       "\n",
       "              Date  MeetCountry  MeetState                        MeetName  \n",
       "63986   2011-05-21          USA         CA             World Championships  \n",
       "66457   2015-09-19          USA         MI                  Wolverine Open  \n",
       "67030   2017-04-22          USA         MO  ShowMe State Raw Championships  \n",
       "67031   2017-04-22          USA         MO  ShowMe State Raw Championships  \n",
       "69557   2018-11-17          USA         MO       Midwest Raw Championships  \n",
       "646493  2008-05-17       Canada         ON          Canadian Championships  \n",
       "646495  2008-05-17       Canada         ON          Canadian Championships  \n",
       "652230  2018-11-09          USA         NC                        OBX Open  \n",
       "658136  2018-08-03          USA         NC                   Southern Open  \n",
       "658137  2018-08-03          USA         NC                   Southern Open  \n",
       "658150  2018-08-03          USA         NC                   Southern Open  \n",
       "658151  2018-08-03          USA         NC                   Southern Open  \n",
       "658152  2018-08-03          USA         NC                   Southern Open  \n",
       "919233  2001-08-18    Australia         WA                       Nationals  \n",
       "\n",
       "[14 rows x 37 columns]>"
      ]
     },
     "execution_count": 123,
     "metadata": {},
     "output_type": "execute_result"
    }
   ],
   "source": [
    "powerlifting_clean.info"
   ]
  },
  {
   "cell_type": "code",
   "execution_count": null,
   "id": "c5d6e1e3",
   "metadata": {},
   "outputs": [],
   "source": [
    "#As this has removed too much data, we go with fillna() function\n",
    "powerlifting_tidy=powerlifting.fillna(0)"
   ]
  },
  {
   "cell_type": "code",
   "execution_count": 199,
   "id": "f1e64389",
   "metadata": {},
   "outputs": [],
   "source": [
    "Powerlifting_tidy=powerlifting_tidy[powerlifting_tidy['Age'] > 14]\n",
    "# age is put over 14 (this is the minimum age required to compete in most powerlifting competitions) to avoid issues by the fillna(0) values"
   ]
  },
  {
   "cell_type": "code",
   "execution_count": 200,
   "id": "59b14994",
   "metadata": {},
   "outputs": [
    {
     "data": {
      "text/plain": [
       "Name               0\n",
       "Sex                0\n",
       "Event              0\n",
       "Equipment          0\n",
       "Age                0\n",
       "AgeClass           0\n",
       "Division           0\n",
       "BodyweightKg       0\n",
       "WeightClassKg      0\n",
       "Squat1Kg           0\n",
       "Squat2Kg           0\n",
       "Squat3Kg           0\n",
       "Squat4Kg           0\n",
       "Best3SquatKg       0\n",
       "Bench1Kg           0\n",
       "Bench2Kg           0\n",
       "Bench3Kg           0\n",
       "Bench4Kg           0\n",
       "Best3BenchKg       0\n",
       "Deadlift1Kg        0\n",
       "Deadlift2Kg        0\n",
       "Deadlift3Kg        0\n",
       "Deadlift4Kg        0\n",
       "Best3DeadliftKg    0\n",
       "TotalKg            0\n",
       "Place              0\n",
       "Wilks              0\n",
       "McCulloch          0\n",
       "Glossbrenner       0\n",
       "IPFPoints          0\n",
       "Tested             0\n",
       "Country            0\n",
       "Federation         0\n",
       "Date               0\n",
       "MeetCountry        0\n",
       "MeetState          0\n",
       "MeetName           0\n",
       "dtype: int64"
      ]
     },
     "execution_count": 200,
     "metadata": {},
     "output_type": "execute_result"
    }
   ],
   "source": [
    "Powerlifting_tidy.isna().sum()"
   ]
  },
  {
   "cell_type": "code",
   "execution_count": 145,
   "id": "7a109ccb",
   "metadata": {},
   "outputs": [],
   "source": [
    "#Better, now I will be merging a table of the top performing powerlifters agains the gold medal winning swimmers\n",
    "#I will be basing top performers off those with the highest totals\n",
    "gold=swim_champ[swim_champ['Medal']== 'Gold']"
   ]
  },
  {
   "cell_type": "code",
   "execution_count": 146,
   "id": "062bddbb",
   "metadata": {},
   "outputs": [
    {
     "data": {
      "text/plain": [
       "<bound method DataFrame.info of             ID                         Name Sex   Age  Height  Weight  \\\n",
       "1772       980    Rebecca \"Becky\" Adlington   F  19.0   179.0    70.0   \n",
       "1773       980    Rebecca \"Becky\" Adlington   F  19.0   179.0    70.0   \n",
       "1843      1017       Nathan Ghar-Jun Adrian   M  19.0   198.0   100.0   \n",
       "1844      1017       Nathan Ghar-Jun Adrian   M  23.0   198.0   100.0   \n",
       "1846      1017       Nathan Ghar-Jun Adrian   M  23.0   198.0   100.0   \n",
       "...        ...                          ...  ..   ...     ...     ...   \n",
       "267090  133620              Georg Zacharias   M  20.0     NaN     NaN   \n",
       "269547  134873                  Zhuang Yong   F  19.0   172.0    68.0   \n",
       "270394  135256           Zachary \"Zac\" Zorn   M  21.0   193.0    86.0   \n",
       "270403  135260  Victoriano Alberto Zorrilla   M  22.0     NaN     NaN   \n",
       "270773  135415                Robertas ulpa   M  20.0   193.0    82.0   \n",
       "\n",
       "                 Team  NOC        Games  Year  Season         City     Sport  \\\n",
       "1772    Great Britain  GBR  2008 Summer  2008  Summer      Beijing  Swimming   \n",
       "1773    Great Britain  GBR  2008 Summer  2008  Summer      Beijing  Swimming   \n",
       "1843    United States  USA  2008 Summer  2008  Summer      Beijing  Swimming   \n",
       "1844    United States  USA  2012 Summer  2012  Summer       London  Swimming   \n",
       "1846    United States  USA  2012 Summer  2012  Summer       London  Swimming   \n",
       "...               ...  ...          ...   ...     ...          ...       ...   \n",
       "267090        Germany  GER  1904 Summer  1904  Summer    St. Louis  Swimming   \n",
       "269547          China  CHN  1992 Summer  1992  Summer    Barcelona  Swimming   \n",
       "270394  United States  USA  1968 Summer  1968  Summer  Mexico City  Swimming   \n",
       "270403      Argentina  ARG  1928 Summer  1928  Summer    Amsterdam  Swimming   \n",
       "270773   Soviet Union  URS  1980 Summer  1980  Summer       Moskva  Swimming   \n",
       "\n",
       "                                                Event Medal  \n",
       "1772            Swimming Women's 400 metres Freestyle  Gold  \n",
       "1773            Swimming Women's 800 metres Freestyle  Gold  \n",
       "1843    Swimming Men's 4 x 100 metres Freestyle Relay  Gold  \n",
       "1844              Swimming Men's 100 metres Freestyle  Gold  \n",
       "1846       Swimming Men's 4 x 100 metres Medley Relay  Gold  \n",
       "...                                               ...   ...  \n",
       "267090           Swimming Men's 440 Yard Breaststroke  Gold  \n",
       "269547          Swimming Women's 100 metres Freestyle  Gold  \n",
       "270394  Swimming Men's 4 x 100 metres Freestyle Relay  Gold  \n",
       "270403            Swimming Men's 400 metres Freestyle  Gold  \n",
       "270773         Swimming Men's 200 metres Breaststroke  Gold  \n",
       "\n",
       "[1099 rows x 15 columns]>"
      ]
     },
     "execution_count": 146,
     "metadata": {},
     "output_type": "execute_result"
    }
   ],
   "source": [
    "gold.info"
   ]
  },
  {
   "cell_type": "code",
   "execution_count": 129,
   "id": "5fe3a2c3",
   "metadata": {},
   "outputs": [
    {
     "data": {
      "text/plain": [
       "36.05643044619423"
      ]
     },
     "execution_count": 129,
     "metadata": {},
     "output_type": "execute_result"
    }
   ],
   "source": [
    "#we see that there are 1099 gold medal win entries compared to 3048 medal win entries, so they represent\n",
    "(1099/3048)*100"
   ]
  },
  {
   "cell_type": "code",
   "execution_count": 201,
   "id": "dce712ec",
   "metadata": {},
   "outputs": [],
   "source": [
    "#36.06% of the total swim medal winners, now we focus on finding what a high Total kg lifted amount is in powerflifting\n",
    "#we do this with some summary statistics\n",
    "total= np.array(Powerlifting_tidy['TotalKg'])\n"
   ]
  },
  {
   "cell_type": "code",
   "execution_count": 176,
   "id": "1cd674bb",
   "metadata": {},
   "outputs": [
    {
     "data": {
      "text/plain": [
       "372.1138231053794"
      ]
     },
     "execution_count": 176,
     "metadata": {},
     "output_type": "execute_result"
    }
   ],
   "source": [
    "total.mean()"
   ]
  },
  {
   "cell_type": "code",
   "execution_count": 177,
   "id": "8aef9f6d",
   "metadata": {},
   "outputs": [
    {
     "data": {
      "text/plain": [
       "1367.5"
      ]
     },
     "execution_count": 177,
     "metadata": {},
     "output_type": "execute_result"
    }
   ],
   "source": [
    "total.max()"
   ]
  },
  {
   "cell_type": "code",
   "execution_count": 178,
   "id": "72b0bed2",
   "metadata": {},
   "outputs": [
    {
     "name": "stdout",
     "output_type": "stream",
     "text": [
      "[290.  332.5  32.5 ... 440.    0.    0. ]\n"
     ]
    }
   ],
   "source": [
    "print(total)"
   ]
  },
  {
   "cell_type": "code",
   "execution_count": 179,
   "id": "18238b05",
   "metadata": {},
   "outputs": [
    {
     "data": {
      "text/plain": [
       "count    757434.000000\n",
       "mean        372.113823\n",
       "std         235.462858\n",
       "min           0.000000\n",
       "25%         175.000000\n",
       "50%         342.500000\n",
       "75%         557.000000\n",
       "max        1367.500000\n",
       "dtype: float64"
      ]
     },
     "execution_count": 179,
     "metadata": {},
     "output_type": "execute_result"
    }
   ],
   "source": [
    "totalkg=pd.Series(total)\n",
    "totalkg.describe()"
   ]
  },
  {
   "cell_type": "code",
   "execution_count": 202,
   "id": "979496bc",
   "metadata": {},
   "outputs": [],
   "source": [
    "#From the statistics, we can see that a total over 557kg is higher than 75% of the other totals, making it a very high total\n",
    "#we group the entries for people with this total in the dataset \"strong\"\n",
    "strong= Powerlifting_tidy[Powerlifting_tidy['TotalKg'] > 557]"
   ]
  },
  {
   "cell_type": "code",
   "execution_count": 192,
   "id": "12ede786",
   "metadata": {},
   "outputs": [
    {
     "name": "stdout",
     "output_type": "stream",
     "text": [
      "                Name Sex Event Equipment   Age AgeClass Division  \\\n",
      "42     Aiden Westrip   M   SBD     Wraps  28.0    24-34     M-OR   \n",
      "43      Andrew Fella   M   SBD     Wraps  27.0    24-34     M-OR   \n",
      "45  Anthony Provenza   M   SBD     Wraps  34.0    24-34     M-OR   \n",
      "46   Arian Behbehani   M   SBD     Wraps  26.0    24-34     M-OR   \n",
      "47     Ashley Walshe   M   SBD     Wraps  27.0    24-34     M-OR   \n",
      "\n",
      "    BodyweightKg WeightClassKg  Squat1Kg  ...  McCulloch  Glossbrenner  \\\n",
      "42          82.0          82.5     210.0  ...     411.82        397.62   \n",
      "43          89.2            90     230.0  ...     416.86        401.80   \n",
      "45         114.7           125    -270.0  ...     418.65        400.35   \n",
      "46          97.6           100     300.0  ...     461.03        443.40   \n",
      "47          97.7           100     210.0  ...     390.17        375.24   \n",
      "\n",
      "    IPFPoints  Tested    Country  Federation        Date  MeetCountry  \\\n",
      "42     615.81       0          0     GPC-AUS  2018-10-27    Australia   \n",
      "43     622.52       0          0     GPC-AUS  2018-10-27    Australia   \n",
      "45     599.24       0          0     GPC-AUS  2018-10-27    Australia   \n",
      "46     690.96       0  Australia     GPC-AUS  2018-10-27    Australia   \n",
      "47     571.66       0          0     GPC-AUS  2018-10-27    Australia   \n",
      "\n",
      "    MeetState       MeetName  \n",
      "42        VIC  Melbourne Cup  \n",
      "43        VIC  Melbourne Cup  \n",
      "45        VIC  Melbourne Cup  \n",
      "46        VIC  Melbourne Cup  \n",
      "47        VIC  Melbourne Cup  \n",
      "\n",
      "[5 rows x 37 columns]\n"
     ]
    }
   ],
   "source": [
    "print(strong.head())"
   ]
  },
  {
   "cell_type": "code",
   "execution_count": 203,
   "id": "426e7bad",
   "metadata": {},
   "outputs": [],
   "source": [
    "#We now merge the dataset of gold medal winning swimmers with that of the advanced powerlifters on the 'Age' column\n",
    "strength_swim= gold.merge(strong, on='Age')"
   ]
  },
  {
   "cell_type": "code",
   "execution_count": 204,
   "id": "0d52e7e0",
   "metadata": {},
   "outputs": [],
   "source": [
    "Strength_swim=strength_swim.fillna(0)"
   ]
  },
  {
   "cell_type": "code",
   "execution_count": 184,
   "id": "43ae8166",
   "metadata": {},
   "outputs": [
    {
     "name": "stdout",
     "output_type": "stream",
     "text": [
      "<class 'pandas.core.frame.DataFrame'>\n",
      "Int64Index: 3105214 entries, 0 to 3105213\n",
      "Data columns (total 51 columns):\n",
      " #   Column           Dtype  \n",
      "---  ------           -----  \n",
      " 0   ID               int64  \n",
      " 1   Name_x           object \n",
      " 2   Sex_x            object \n",
      " 3   Age              float64\n",
      " 4   Height           float64\n",
      " 5   Weight           float64\n",
      " 6   Team             object \n",
      " 7   NOC              object \n",
      " 8   Games            object \n",
      " 9   Year             int64  \n",
      " 10  Season           object \n",
      " 11  City             object \n",
      " 12  Sport            object \n",
      " 13  Event_x          object \n",
      " 14  Medal            object \n",
      " 15  Name_y           object \n",
      " 16  Sex_y            object \n",
      " 17  Event_y          object \n",
      " 18  Equipment        object \n",
      " 19  AgeClass         object \n",
      " 20  Division         object \n",
      " 21  BodyweightKg     float64\n",
      " 22  WeightClassKg    object \n",
      " 23  Squat1Kg         float64\n",
      " 24  Squat2Kg         float64\n",
      " 25  Squat3Kg         float64\n",
      " 26  Squat4Kg         float64\n",
      " 27  Best3SquatKg     float64\n",
      " 28  Bench1Kg         float64\n",
      " 29  Bench2Kg         float64\n",
      " 30  Bench3Kg         float64\n",
      " 31  Bench4Kg         float64\n",
      " 32  Best3BenchKg     float64\n",
      " 33  Deadlift1Kg      float64\n",
      " 34  Deadlift2Kg      float64\n",
      " 35  Deadlift3Kg      float64\n",
      " 36  Deadlift4Kg      float64\n",
      " 37  Best3DeadliftKg  float64\n",
      " 38  TotalKg          float64\n",
      " 39  Place            object \n",
      " 40  Wilks            float64\n",
      " 41  McCulloch        float64\n",
      " 42  Glossbrenner     float64\n",
      " 43  IPFPoints        float64\n",
      " 44  Tested           object \n",
      " 45  Country          object \n",
      " 46  Federation       object \n",
      " 47  Date             object \n",
      " 48  MeetCountry      object \n",
      " 49  MeetState        object \n",
      " 50  MeetName         object \n",
      "dtypes: float64(24), int64(2), object(25)\n",
      "memory usage: 1.2+ GB\n"
     ]
    }
   ],
   "source": [
    "Strength_swim.info()"
   ]
  },
  {
   "cell_type": "code",
   "execution_count": 208,
   "id": "bfc0e22b",
   "metadata": {},
   "outputs": [
    {
     "data": {
      "text/plain": [
       "30.109586034754464"
      ]
     },
     "execution_count": 208,
     "metadata": {},
     "output_type": "execute_result"
    }
   ],
   "source": [
    "strong['Age'].mean()"
   ]
  },
  {
   "cell_type": "code",
   "execution_count": 209,
   "id": "6c5db304",
   "metadata": {},
   "outputs": [
    {
     "data": {
      "text/plain": [
       "20.77676120768527"
      ]
     },
     "execution_count": 209,
     "metadata": {},
     "output_type": "execute_result"
    }
   ],
   "source": [
    "gold['Age'].mean()"
   ]
  },
  {
   "cell_type": "code",
   "execution_count": 210,
   "id": "32a7189a",
   "metadata": {},
   "outputs": [
    {
     "data": {
      "text/plain": [
       "22.075160520520726"
      ]
     },
     "execution_count": 210,
     "metadata": {},
     "output_type": "execute_result"
    }
   ],
   "source": [
    "Strength_swim['Age'].mean()"
   ]
  },
  {
   "cell_type": "code",
   "execution_count": null,
   "id": "f35e4f83",
   "metadata": {},
   "outputs": [],
   "source": [
    "#As we can see from calculating the mean statistics, the average age of a gold medal winning swimmer is far younger than that\n",
    "# of a top performing powerlifter"
   ]
  }
 ],
 "metadata": {
  "kernelspec": {
   "display_name": "Python 3",
   "language": "python",
   "name": "python3"
  },
  "language_info": {
   "codemirror_mode": {
    "name": "ipython",
    "version": 3
   },
   "file_extension": ".py",
   "mimetype": "text/x-python",
   "name": "python",
   "nbconvert_exporter": "python",
   "pygments_lexer": "ipython3",
   "version": "3.8.8"
  }
 },
 "nbformat": 4,
 "nbformat_minor": 5
}
