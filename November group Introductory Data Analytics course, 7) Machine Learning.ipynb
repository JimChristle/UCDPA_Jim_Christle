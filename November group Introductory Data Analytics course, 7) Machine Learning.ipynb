{
 "cells": [
  {
   "cell_type": "code",
   "execution_count": 1,
   "id": "6d07adda",
   "metadata": {},
   "outputs": [],
   "source": [
    "#Question 1. Describe what kind of prediction you could perform in future using machine learning and/or deep learning"
   ]
  },
  {
   "cell_type": "code",
   "execution_count": 2,
   "id": "add9e64f",
   "metadata": {},
   "outputs": [],
   "source": [
    "#Question 2. Would you use classification or regression methods?"
   ]
  },
  {
   "cell_type": "code",
   "execution_count": null,
   "id": "0e0f2785",
   "metadata": {},
   "outputs": [],
   "source": [
    "#Machine learning\n",
    "\n",
    "#In future, with machine learning, we could predict the age of an Olympic gold medal winning swimmer.  \n",
    "#This would aid athletes in advising them at what point in their training career they should qualify for the Olympics \n",
    "#if they want the highest possible chance of winning gold. This could be done through regression analysis, \n",
    "#as age is numerical data.\n",
    "\n",
    "#Classification analysis could be done to predict the likelihood of an athlete winning a gold, silver or bronze medal,\n",
    "#as this is categorical data that could be used by countries when governments are deciding on how much of their budget \n",
    "#to spend on sports funding. This ‘label’ could be found using an clustering algorithm that groups together individuals \n",
    "#with the characteristics of medal winning athletes, such as the right combination of age, height and weight metrics\n",
    "#along with other data, to predict which of these athletes is most similar to previous medal winners.\n"
   ]
  },
  {
   "cell_type": "code",
   "execution_count": null,
   "id": "4eabbb3a",
   "metadata": {},
   "outputs": [],
   "source": []
  }
 ],
 "metadata": {
  "kernelspec": {
   "display_name": "Python 3",
   "language": "python",
   "name": "python3"
  },
  "language_info": {
   "codemirror_mode": {
    "name": "ipython",
    "version": 3
   },
   "file_extension": ".py",
   "mimetype": "text/x-python",
   "name": "python",
   "nbconvert_exporter": "python",
   "pygments_lexer": "ipython3",
   "version": "3.8.8"
  }
 },
 "nbformat": 4,
 "nbformat_minor": 5
}
